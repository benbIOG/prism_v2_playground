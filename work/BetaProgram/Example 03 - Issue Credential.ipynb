{
 "cells": [
  {
   "cell_type": "code",
   "execution_count": 48,
   "id": "969738e2",
   "metadata": {},
   "outputs": [
    {
     "name": "stdout",
     "output_type": "stream",
     "text": [
      "Requirement already satisfied: ipywidgets in c:\\python38\\lib\\site-packages (from -r ../../requirements.txt (line 1)) (8.0.6)"
     ]
    },
    {
     "name": "stderr",
     "output_type": "stream",
     "text": [
      "\n"
     ]
    },
    {
     "name": "stdout",
     "output_type": "stream",
     "text": [
      "\n"
     ]
    },
    {
     "name": "stderr",
     "output_type": "stream",
     "text": [
      "[notice] A new release of pip is available: 23.0.1 -> 23.1.2\n"
     ]
    },
    {
     "name": "stdout",
     "output_type": "stream",
     "text": [
      "Requirement already satisfied: prompt_toolkit in c:\\users\\beckm\\appdata\\roaming\\python\\python38\\site-packages (from -r ../../requirements.txt (line 2)) (3.0.14)\n"
     ]
    },
    {
     "name": "stderr",
     "output_type": "stream",
     "text": [
      "[notice] To update, run: python.exe -m pip install --upgrade pip"
     ]
    },
    {
     "name": "stdout",
     "output_type": "stream",
     "text": [
      "Requirement already satisfied: pygments in c:\\users\\beckm\\appdata\\roaming\\python\\python38\\site-packages (from -r ../../requirements.txt (line 3)) (2.7.4)"
     ]
    },
    {
     "name": "stderr",
     "output_type": "stream",
     "text": [
      "\n"
     ]
    },
    {
     "name": "stdout",
     "output_type": "stream",
     "text": [
      "\n",
      "Requirement already satisfied: PyPubSub in c:\\python38\\lib\\site-packages (from -r ../../requirements.txt (line 4)) (4.0.3)\n",
      "Requirement already satisfied: python-dotenv in c:\\python38\\lib\\site-packages (from -r ../../requirements.txt (line 5)) (0.15.0)\n",
      "Requirement already satisfied: termcolor in c:\\python38\\lib\\site-packages (from -r ../../requirements.txt (line 6)) (1.1.0)\n",
      "Requirement already satisfied: pillow in c:\\python38\\lib\\site-packages (from -r ../../requirements.txt (line 7)) (8.1.0)\n",
      "Requirement already satisfied: qrcode in c:\\python38\\lib\\site-packages (from -r ../../requirements.txt (line 8)) (7.4.2)\n"
     ]
    }
   ],
   "source": [
    "!pip install -r ../../requirements.txt"
   ]
  },
  {
   "cell_type": "code",
   "execution_count": 49,
   "id": "e314f3b0",
   "metadata": {},
   "outputs": [
    {
     "name": "stdout",
     "output_type": "stream",
     "text": [
      "Requirement already satisfied: peerdid==0.3.0 in c:\\python38\\lib\\site-packages (from -r ../../requirements.txt (line 9)) (0.3.0)\n",
      "Requirement already satisfied: pyjwt==2.6.0 in c:\\python38\\lib\\site-packages (from -r ../../requirements.txt (line 10)) (2.6.0)\n",
      "Requirement already satisfied: base58~=2.1.0 in c:\\python38\\lib\\site-packages (from peerdid==0.3.0->-r ../../requirements.txt (line 9)) (2.1.1)\n",
      "Requirement already satisfied: varint~=1.0.2 in c:\\python38\\lib\\site-packages (from peerdid==0.3.0->-r ../../requirements.txt (line 9)) (1.0.2)\n",
      "Requirement already satisfied: widgetsnbextension~=4.0.7 in c:\\python38\\lib\\site-packages (from ipywidgets->-r ../../requirements.txt (line 1)) (4.0.7)\n",
      "Requirement already satisfied: traitlets>=4.3.1 in c:\\users\\beckm\\appdata\\roaming\\python\\python38\\site-packages (from ipywidgets->-r ../../requirements.txt (line 1)) (5.0.5)\n",
      "Requirement already satisfied: ipykernel>=4.5.1 in c:\\users\\beckm\\appdata\\roaming\\python\\python38\\site-packages (from ipywidgets->-r ../../requirements.txt (line 1)) (5.4.3)\n",
      "Requirement already satisfied: jupyterlab-widgets~=3.0.7 in c:\\python38\\lib\\site-packages (from ipywidgets->-r ../../requirements.txt (line 1)) (3.0.7)\n",
      "Requirement already satisfied: ipython>=6.1.0 in c:\\users\\beckm\\appdata\\roaming\\python\\python38\\site-packages (from ipywidgets->-r ../../requirements.txt (line 1)) (7.19.0)\n",
      "Requirement already satisfied: wcwidth in c:\\users\\beckm\\appdata\\roaming\\python\\python38\\site-packages (from prompt_toolkit->-r ../../requirements.txt (line 2)) (0.2.5)\n",
      "Requirement already satisfied: pypng in c:\\python38\\lib\\site-packages (from qrcode->-r ../../requirements.txt (line 8)) (0.20220715.0)\n",
      "Requirement already satisfied: colorama in c:\\users\\beckm\\appdata\\roaming\\python\\python38\\site-packages (from qrcode->-r ../../requirements.txt (line 8)) (0.4.4)\n",
      "Requirement already satisfied: typing-extensions in c:\\python38\\lib\\site-packages (from qrcode->-r ../../requirements.txt (line 8)) (3.10.0.0)\n",
      "Requirement already satisfied: jupyter-client in c:\\users\\beckm\\appdata\\roaming\\python\\python38\\site-packages (from ipykernel>=4.5.1->ipywidgets->-r ../../requirements.txt (line 1)) (6.1.11)\n",
      "Requirement already satisfied: tornado>=4.2 in c:\\users\\beckm\\appdata\\roaming\\python\\python38\\site-packages (from ipykernel>=4.5.1->ipywidgets->-r ../../requirements.txt (line 1)) (6.1)\n",
      "Requirement already satisfied: backcall in c:\\users\\beckm\\appdata\\roaming\\python\\python38\\site-packages (from ipython>=6.1.0->ipywidgets->-r ../../requirements.txt (line 1)) (0.2.0)\n",
      "Requirement already satisfied: jedi>=0.10 in c:\\users\\beckm\\appdata\\roaming\\python\\python38\\site-packages (from ipython>=6.1.0->ipywidgets->-r ../../requirements.txt (line 1)) (0.18.0)\n",
      "Requirement already satisfied: decorator in c:\\users\\beckm\\appdata\\roaming\\python\\python38\\site-packages (from ipython>=6.1.0->ipywidgets->-r ../../requirements.txt (line 1)) (4.4.2)\n",
      "Requirement already satisfied: setuptools>=18.5 in c:\\python38\\lib\\site-packages (from ipython>=6.1.0->ipywidgets->-r ../../requirements.txt (line 1)) (47.1.0)\n",
      "Requirement already satisfied: pickleshare in c:\\users\\beckm\\appdata\\roaming\\python\\python38\\site-packages (from ipython>=6.1.0->ipywidgets->-r ../../requirements.txt (line 1)) (0.7.5)\n",
      "Requirement already satisfied: ipython-genutils in c:\\users\\beckm\\appdata\\roaming\\python\\python38\\site-packages (from traitlets>=4.3.1->ipywidgets->-r ../../requirements.txt (line 1)) (0.2.0)\n",
      "Requirement already satisfied: parso<0.9.0,>=0.8.0 in c:\\users\\beckm\\appdata\\roaming\\python\\python38\\site-packages (from jedi>=0.10->ipython>=6.1.0->ipywidgets->-r ../../requirements.txt (line 1)) (0.8.1)\n",
      "Requirement already satisfied: python-dateutil>=2.1 in c:\\python38\\lib\\site-packages (from jupyter-client->ipykernel>=4.5.1->ipywidgets->-r ../../requirements.txt (line 1)) (2.8.0)\n",
      "Requirement already satisfied: pyzmq>=13 in c:\\users\\beckm\\appdata\\roaming\\python\\python38\\site-packages (from jupyter-client->ipykernel>=4.5.1->ipywidgets->-r ../../requirements.txt (line 1)) (21.0.1)\n",
      "Requirement already satisfied: jupyter-core>=4.6.0 in c:\\users\\beckm\\appdata\\roaming\\python\\python38\\site-packages (from jupyter-client->ipykernel>=4.5.1->ipywidgets->-r ../../requirements.txt (line 1)) (4.7.0)\n",
      "Requirement already satisfied: pywin32>=1.0 in c:\\python38\\lib\\site-packages (from jupyter-core>=4.6.0->jupyter-client->ipykernel>=4.5.1->ipywidgets->-r ../../requirements.txt (line 1)) (227)\n",
      "Requirement already satisfied: six>=1.5 in c:\\python38\\lib\\site-packages (from python-dateutil>=2.1->jupyter-client->ipykernel>=4.5.1->ipywidgets->-r ../../requirements.txt (line 1)) (1.15.0)\n"
     ]
    },
    {
     "name": "stdout",
     "output_type": "stream",
     "text": [
      "Requirement already satisfied: pyjwt in c:\\python38\\lib\\site-packages (from -r ../../requirements.dev.txt (line 1)) (2.6.0)"
     ]
    },
    {
     "name": "stderr",
     "output_type": "stream",
     "text": [
      "\n"
     ]
    },
    {
     "name": "stdout",
     "output_type": "stream",
     "text": [
      "\n"
     ]
    },
    {
     "name": "stderr",
     "output_type": "stream",
     "text": [
      "[notice] A new release of pip is available: 23.0.1 -> 23.1.2"
     ]
    },
    {
     "name": "stdout",
     "output_type": "stream",
     "text": [
      "Requirement already satisfied: black==23.1.0 in c:\\python38\\lib\\site-packages (from -r ../../requirements.dev.txt (line 2)) (23.1.0)"
     ]
    },
    {
     "name": "stderr",
     "output_type": "stream",
     "text": [
      "\n"
     ]
    },
    {
     "name": "stdout",
     "output_type": "stream",
     "text": [
      "\n"
     ]
    },
    {
     "name": "stderr",
     "output_type": "stream",
     "text": [
      "[notice] To update, run: python.exe -m pip install --upgrade pip"
     ]
    },
    {
     "name": "stdout",
     "output_type": "stream",
     "text": [
      "Requirement already satisfied: httpx<0.24.0,>=0.15.4 in c:\\python38\\lib\\site-packages (from -r ../../requirements.dev.txt (line 3)) (0.23.3)"
     ]
    },
    {
     "name": "stderr",
     "output_type": "stream",
     "text": [
      "\n"
     ]
    },
    {
     "name": "stdout",
     "output_type": "stream",
     "text": [
      "\n",
      "Requirement already satisfied: attrs>=21.3.0 in c:\\python38\\lib\\site-packages (from -r ../../requirements.dev.txt (line 4)) (23.1.0)\n",
      "Requirement already satisfied: python-dateutil==2.8.0 in c:\\python38\\lib\\site-packages (from -r ../../requirements.dev.txt (line 5)) (2.8.0)\n",
      "Requirement already satisfied: typing-extensions>=3.10.0.0 in c:\\python38\\lib\\site-packages (from black==23.1.0->-r ../../requirements.dev.txt (line 2)) (3.10.0.0)\n",
      "Requirement already satisfied: platformdirs>=2 in c:\\python38\\lib\\site-packages (from black==23.1.0->-r ../../requirements.dev.txt (line 2)) (3.5.0)\n",
      "Requirement already satisfied: pathspec>=0.9.0 in c:\\python38\\lib\\site-packages (from black==23.1.0->-r ../../requirements.dev.txt (line 2)) (0.11.1)\n",
      "Requirement already satisfied: tomli>=1.1.0 in c:\\python38\\lib\\site-packages (from black==23.1.0->-r ../../requirements.dev.txt (line 2)) (2.0.1)\n",
      "Requirement already satisfied: packaging>=22.0 in c:\\python38\\lib\\site-packages (from black==23.1.0->-r ../../requirements.dev.txt (line 2)) (23.1)\n",
      "Requirement already satisfied: click>=8.0.0 in c:\\python38\\lib\\site-packages (from black==23.1.0->-r ../../requirements.dev.txt (line 2)) (8.1.3)\n",
      "Requirement already satisfied: mypy-extensions>=0.4.3 in c:\\python38\\lib\\site-packages (from black==23.1.0->-r ../../requirements.dev.txt (line 2)) (1.0.0)\n",
      "Requirement already satisfied: six>=1.5 in c:\\python38\\lib\\site-packages (from python-dateutil==2.8.0->-r ../../requirements.dev.txt (line 5)) (1.15.0)\n",
      "Requirement already satisfied: rfc3986[idna2008]<2,>=1.3 in c:\\python38\\lib\\site-packages (from httpx<0.24.0,>=0.15.4->-r ../../requirements.dev.txt (line 3)) (1.5.0)\n",
      "Requirement already satisfied: httpcore<0.17.0,>=0.15.0 in c:\\python38\\lib\\site-packages (from httpx<0.24.0,>=0.15.4->-r ../../requirements.dev.txt (line 3)) (0.16.3)\n",
      "Requirement already satisfied: sniffio in c:\\python38\\lib\\site-packages (from httpx<0.24.0,>=0.15.4->-r ../../requirements.dev.txt (line 3)) (1.3.0)\n",
      "Requirement already satisfied: certifi in c:\\python38\\lib\\site-packages (from httpx<0.24.0,>=0.15.4->-r ../../requirements.dev.txt (line 3)) (2020.12.5)\n",
      "Requirement already satisfied: colorama in c:\\users\\beckm\\appdata\\roaming\\python\\python38\\site-packages (from click>=8.0.0->black==23.1.0->-r ../../requirements.dev.txt (line 2)) (0.4.4)\n",
      "Requirement already satisfied: h11<0.15,>=0.13 in c:\\python38\\lib\\site-packages (from httpcore<0.17.0,>=0.15.0->httpx<0.24.0,>=0.15.4->-r ../../requirements.dev.txt (line 3)) (0.14.0)\n",
      "Requirement already satisfied: anyio<5.0,>=3.0 in c:\\python38\\lib\\site-packages (from httpcore<0.17.0,>=0.15.0->httpx<0.24.0,>=0.15.4->-r ../../requirements.dev.txt (line 3)) (3.6.2)\n",
      "Requirement already satisfied: idna in c:\\python38\\lib\\site-packages (from rfc3986[idna2008]<2,>=1.3->httpx<0.24.0,>=0.15.4->-r ../../requirements.dev.txt (line 3)) (2.10)\n"
     ]
    }
   ],
   "source": [
    "!pip install -r ../../requirements.dev.txt"
   ]
  },
  {
   "cell_type": "code",
   "execution_count": 50,
   "id": "9bb48b4d",
   "metadata": {},
   "outputs": [
    {
     "name": "stderr",
     "output_type": "stream",
     "text": [
      "\n"
     ]
    },
    {
     "name": "stdout",
     "output_type": "stream",
     "text": [
      "Obtaining file:///Z:/tmp/prism_v2_playground/work/BetaProgram"
     ]
    },
    {
     "name": "stderr",
     "output_type": "stream",
     "text": [
      "[notice] A new release of pip is available: 23.0.1 -> 23.1.2\n"
     ]
    },
    {
     "name": "stdout",
     "output_type": "stream",
     "text": [
      "\n"
     ]
    },
    {
     "name": "stderr",
     "output_type": "stream",
     "text": [
      "[notice] To update, run: python.exe -m pip install --upgrade pip"
     ]
    },
    {
     "name": "stdout",
     "output_type": "stream",
     "text": [
      "  Installing build dependencies: started"
     ]
    },
    {
     "name": "stderr",
     "output_type": "stream",
     "text": [
      "\n"
     ]
    },
    {
     "name": "stdout",
     "output_type": "stream",
     "text": [
      "\n",
      "  Installing build dependencies: finished with status 'done'\n",
      "  Checking if build backend supports build_editable: started\n",
      "  Checking if build backend supports build_editable: finished with status 'done'\n",
      "  Getting requirements to build editable: started\n",
      "  Getting requirements to build editable: finished with status 'done'\n",
      "  Preparing editable metadata (pyproject.toml): started\n",
      "  Preparing editable metadata (pyproject.toml): finished with status 'done'\n",
      "Requirement already satisfied: httpx<0.24.0,>=0.15.4 in c:\\python38\\lib\\site-packages (from prism-agent-open-api-specification-client==0.41.0) (0.23.3)\n",
      "Requirement already satisfied: python-dateutil<3.0.0,>=2.8.0 in c:\\python38\\lib\\site-packages (from prism-agent-open-api-specification-client==0.41.0) (2.8.0)\n",
      "Requirement already satisfied: attrs>=21.3.0 in c:\\python38\\lib\\site-packages (from prism-agent-open-api-specification-client==0.41.0) (23.1.0)\n",
      "Requirement already satisfied: sniffio in c:\\python38\\lib\\site-packages (from httpx<0.24.0,>=0.15.4->prism-agent-open-api-specification-client==0.41.0) (1.3.0)\n",
      "Requirement already satisfied: rfc3986[idna2008]<2,>=1.3 in c:\\python38\\lib\\site-packages (from httpx<0.24.0,>=0.15.4->prism-agent-open-api-specification-client==0.41.0) (1.5.0)\n",
      "Requirement already satisfied: certifi in c:\\python38\\lib\\site-packages (from httpx<0.24.0,>=0.15.4->prism-agent-open-api-specification-client==0.41.0) (2020.12.5)\n",
      "Requirement already satisfied: httpcore<0.17.0,>=0.15.0 in c:\\python38\\lib\\site-packages (from httpx<0.24.0,>=0.15.4->prism-agent-open-api-specification-client==0.41.0) (0.16.3)\n",
      "Requirement already satisfied: six>=1.5 in c:\\python38\\lib\\site-packages (from python-dateutil<3.0.0,>=2.8.0->prism-agent-open-api-specification-client==0.41.0) (1.15.0)\n",
      "Requirement already satisfied: h11<0.15,>=0.13 in c:\\python38\\lib\\site-packages (from httpcore<0.17.0,>=0.15.0->httpx<0.24.0,>=0.15.4->prism-agent-open-api-specification-client==0.41.0) (0.14.0)"
     ]
    }
   ],
   "source": [
    "!pip install --no-cache-dir -e ."
   ]
  },
  {
   "attachments": {},
   "cell_type": "markdown",
   "id": "0c87c711-0271-485b-b1dd-9ceb6b38a3b7",
   "metadata": {},
   "source": [
    "## Issue Credential\n",
    "\n",
    "Issuing a credential involves establishing a connection between the issuer and the holder, which is done by following the process outlined in `Example 01 - Connections`. Once the connection is established, the issuer will prepare and send a credential offer, which creates an issue record on both the issuer's and holder's agents. The holder will then retrieve the list of issue records, find the one they wish to accept, and notify the issuer of their acceptance. Finally, the issuer will issue the credential to the holder, completing the process.\n",
    "\n",
    "This example presents the steps required to issue a credential using Atala PRISM Agents."
   ]
  },
  {
   "cell_type": "code",
   "execution_count": 51,
   "id": "0b784096-9df8-490f-a4be-d247467ae58e",
   "metadata": {
    "tags": []
   },
   "outputs": [
    {
     "name": "stdout",
     "output_type": "stream",
     "text": [
      "\n",
      "Requirement already satisfied: anyio<5.0,>=3.0 in c:\\python38\\lib\\site-packages (from httpcore<0.17.0,>=0.15.0->httpx<0.24.0,>=0.15.4->prism-agent-open-api-specification-client==0.41.0) (3.6.2)\n",
      "Requirement already satisfied: idna in c:\\python38\\lib\\site-packages (from rfc3986[idna2008]<2,>=1.3->httpx<0.24.0,>=0.15.4->prism-agent-open-api-specification-client==0.41.0) (2.10)\n",
      "Building wheels for collected packages: prism-agent-open-api-specification-client\n",
      "  Building editable for prism-agent-open-api-specification-client (pyproject.toml): started\n",
      "  Building editable for prism-agent-open-api-specification-client (pyproject.toml): finished with status 'done'\n",
      "  Created wheel for prism-agent-open-api-specification-client: filename=prism_agent_open_api_specification_client-0.41.0-py3-none-any.whl size=2871 sha256=c9229265fe7403d59ae52574de36d249cfd87b8a2b85b3adfbd659cb5f1065fd\n",
      "  Stored in directory: C:\\Users\\beckm\\AppData\\Local\\Temp\\pip-ephem-wheel-cache-oq81csx3\\wheels\\e4\\2d\\0c\\b0fbb0963c476eae827cce75c1ea48aa09876d2853df295cc9\n",
      "Successfully built prism-agent-open-api-specification-client\n",
      "Installing collected packages: prism-agent-open-api-specification-client\n",
      "  Attempting uninstall: prism-agent-open-api-specification-client\n",
      "    Found existing installation: prism-agent-open-api-specification-client 0.41.0\n",
      "    Uninstalling prism-agent-open-api-specification-client-0.41.0:\n",
      "      Successfully uninstalled prism-agent-open-api-specification-client-0.41.0\n",
      "Successfully installed prism-agent-open-api-specification-client-0.41.0\n"
     ]
    }
   ],
   "source": [
    "#🚨 Run this code cell to import requirements in the Kernel\n",
    "\n",
    "import os\n",
    "import time\n",
    "import datetime\n",
    "import base64\n",
    "import json\n",
    "import jwt\n",
    "import re\n",
    "import requests\n",
    "from pprint import pprint\n",
    "from dotenv import load_dotenv\n",
    "from termcolor import colored,cprint\n",
    "\n",
    "from prism_agent_open_api_specification_client import Client\n",
    "from prism_agent_open_api_specification_client.types import Response\n",
    "from prism_agent_open_api_specification_client.models import ErrorResponse\n",
    "from prism_agent_open_api_specification_client.models import Connection,ConnectionInvitation,CreateConnectionRequest,AcceptConnectionInvitationRequest, AcceptCredentialOfferRequest\n",
    "from prism_agent_open_api_specification_client.api.connections_management import get_connection,create_connection,accept_connection_invitation\n",
    "from prism_agent_open_api_specification_client.models import IssueCredentialRecord, CreateIssueCredentialRecordRequest, IssueCredentialRecordBaseClaims, IssueCredentialRecordPage, IssueCredentialRecordAllOfProtocolState\n",
    "from prism_agent_open_api_specification_client.api.issue_credentials_protocol import get_credential_record, get_credential_records, create_credential_offer,accept_credential_offer,issue_credential\n",
    "from prism_agent_open_api_specification_client.models import CreateManagedDidRequest, CreateManagedDIDResponse\n",
    "from prism_agent_open_api_specification_client.models import DIDOperationResponse, DIDResponse, DID, Service   \n",
    "from prism_agent_open_api_specification_client.api.did_registrar import create_managed_did, publish_managed_did\n",
    "from prism_agent_open_api_specification_client.api.did import get_did"
   ]
  },
  {
   "attachments": {},
   "cell_type": "markdown",
   "id": "27d5b99e-b917-4845-9811-ee2b56ab39eb",
   "metadata": {},
   "source": [
    "### Ultilitary functions"
   ]
  },
  {
   "cell_type": "code",
   "execution_count": 52,
   "id": "256622d6-ec9c-4189-ade3-5f9a773f3a45",
   "metadata": {
    "tags": []
   },
   "outputs": [],
   "source": [
    "def get_invitation_str(connection):\n",
    "    parts = connection.invitation.invitation_url.split(\"=\")\n",
    "    return parts[1]\n",
    "\n",
    "def find_credential_record_by_state(client, state):\n",
    "    credential_records: Response[IssueCredentialRecordPage] = get_credential_records.sync(client=client)\n",
    "\n",
    "    for offer in credential_records.contents:\n",
    "        if(offer.protocol_state == state):\n",
    "            return offer\n",
    "    return None \n",
    "\n",
    "def to_canonical_did(long_form):\n",
    "    pattern = r\"did:prism:[a-fA-F0-9]{64}\"\n",
    "    match = re.search(pattern, long_form)\n",
    "    \n",
    "    if match:\n",
    "        return match.group()\n",
    "    else:\n",
    "        return None\n",
    "\n",
    "def print_credential_record(credential_record):\n",
    "    print(f\"record_id:          {credential_record.record_id}\")\n",
    "    print(f\"subject_id:         {credential_record.subject_id}\")\n",
    "    print(f\"role:               {credential_record.role}\")\n",
    "    print(f\"protocol_state:     {credential_record.protocol_state}\")\n",
    "    print(f\"created_at:         {credential_record.created_at}\")\n",
    "    print(f\"updated_at:         {credential_record.updated_at}\")\n",
    "    \n",
    "def print_connection(connection):\n",
    "    print(f\"connection_id: {connection.connection_id}\")\n",
    "    print(f\"state:         {connection.state}\")\n",
    "    print(f\"label:         {connection.label}\")\n",
    "    print(f\"my_did:        {connection.my_did}\")\n",
    "    print(f\"their_did:     {connection.their_did}\")\n",
    "    print(f\"created_at:    {connection.created_at}\")\n",
    "    \n",
    "troubleshooting_message = f'''\n",
    "🚨 An issue occurred while attempting to interact with the PRISM Agent 🚨\n",
    "\n",
    "- Check that the PRISM Agent you are trying to connect to is up and running, and that it is listening on the correct port. \n",
    "  You can try to connect to the Agent using a different tool to confirm that it is available. \n",
    "  (e.g. `curl --location '<host:port>/prism-agent/connections' --header 'apiKey: <key>'`) \n",
    "- Check if there are any network issues preventing the Notebook from connecting to the Agent. This can include firewalls, \n",
    "  proxies, and other network configurations.\n",
    "- Ensure that the Agent URL is correct, and that the correct API Keys are provided in the variables.env file.\n",
    "- If none of the above solutions work, check the logs of the Agent container to see if there are any more specific error \n",
    "  messages that can help diagnose the issue.'''\n",
    "\n",
    "def preflight(url, api_key):\n",
    "    try:\n",
    "        endpoint = f'{url}/connections'\n",
    "        headers = {'apiKey': api_key}\n",
    "        response = requests.get(endpoint, headers=headers, timeout=15)\n",
    "        if response.status_code == 200:\n",
    "            print(f\"URL ok: {url}\")\n",
    "        else:\n",
    "            raise Exception(f\"URL: {response.url} code: {response.status_code} content: {response.text}\")\n",
    "    except Exception as Ex:\n",
    "        raise Exception(f'{troubleshooting_message}\\n\\nURL: {url}\\nAPI Key: {api_key != \"\"}')"
   ]
  },
  {
   "attachments": {},
   "cell_type": "markdown",
   "id": "bb8dc963-b0ef-4666-adb9-24abac2ae625",
   "metadata": {},
   "source": [
    "### Client instances\n",
    "\n",
    "We will create two clients, one for the Issuer and one for the Holder, to establish a connection and perform the issue credential process.\n",
    "\n",
    "⚠️ Remember to update the file variables.env with the URLs and API keys provided to you.\n"
   ]
  },
  {
   "attachments": {},
   "cell_type": "markdown",
   "id": "fecbcac8-14b1-42de-a908-586fbae0e7a7",
   "metadata": {
    "tags": []
   },
   "source": [
    "#### ⚠️ NOTE:\n",
    "If your host operating system is a nix-based OS that is not OSX or Windows please ensure you load the `../BetaProgram/variables_linux.env` environment variables.  \n",
    "To do this uncomment the following line in the cell below: `#load_dotenv(\"../BetaProgram/variables-linux.env\")`.  \n",
    "Otherwise you will encounter issues with errors such as `ConnectionRefusedError`, `ConnectError: [Errno <n>] Name or service not known`"
   ]
  },
  {
   "cell_type": "code",
   "execution_count": 53,
   "id": "767fd10e-4ae7-4b17-b932-ac2e8f5d6219",
   "metadata": {
    "tags": []
   },
   "outputs": [
    {
     "name": "stdout",
     "output_type": "stream",
     "text": [
      "Exception reporting mode: Minimal\n",
      "URL ok: http://host.docker.internal:8080/prism-agent\n",
      "URL ok: http://host.docker.internal:8090/prism-agent\n",
      "Exception reporting mode: Verbose\n"
     ]
    }
   ],
   "source": [
    "load_dotenv(\"../BetaProgram/variables.env\")\n",
    "#load_dotenv(\"../BetaProgram/variables-linux.env\")\n",
    "issuerApiKey = os.getenv('ISSUER_APIKEY')\n",
    "issuerUrl = os.getenv('ISSUER_URL')\n",
    "\n",
    "holderApiKey = os.getenv('HOLDER_APIKEY')\n",
    "holderUrl = os.getenv('HOLDER_URL')\n",
    "\n",
    "issuer_client = Client(base_url=issuerUrl, headers={\"apiKey\": issuerApiKey})\n",
    "holder_client = Client(base_url=holderUrl, headers={\"apiKey\": holderApiKey})\n",
    "\n",
    "%xmode Minimal\n",
    "\n",
    "preflight(issuerUrl, issuerApiKey)\n",
    "preflight(holderUrl, holderApiKey)\n",
    "\n",
    "%xmode Verbose"
   ]
  },
  {
   "attachments": {},
   "cell_type": "markdown",
   "id": "66210c60-88b1-438c-aa79-01a5304582a9",
   "metadata": {
    "tags": []
   },
   "source": [
    "### Create connection\n",
    "\n",
    "ℹ️ For details on this see \"Example 01 - Connections\""
   ]
  },
  {
   "cell_type": "code",
   "execution_count": 54,
   "id": "2cba1313-d47f-4c21-bc7d-acd43f6fa2d6",
   "metadata": {
    "tags": []
   },
   "outputs": [
    {
     "name": "stdout",
     "output_type": "stream",
     "text": [
      "Please wait...\n",
      "Issuer connection: 4cca88ef-8605-4e29-a842-a09f71d9b4ac\n",
      "Holder connection: 6ec0842c-e924-4417-926d-ab720f609ec5\n",
      "\n",
      "Issuer State: InvitationGenerated / Holder State: ConnectionRequestPending\n",
      "Issuer State: InvitationGenerated / Holder State: ConnectionRequestPending\n",
      "Issuer State: ConnectionResponsePending / Holder State: ConnectionResponseReceived\n",
      "Issuer State: ConnectionResponsePending / Holder State: ConnectionResponseReceived\n",
      "Issuer State: ConnectionResponseSent / Holder State: ConnectionResponseReceived\n",
      "Connection established between Issuer and Holder!\n",
      "\n",
      "Issuer connection:\n",
      "\n",
      "connection_id: 4cca88ef-8605-4e29-a842-a09f71d9b4ac\n",
      "state:         ConnectionResponseSent\n",
      "label:         Issue credential 2023-05-12 13:54:15\n",
      "my_did:        did:peer:2.Ez6LSpvAM1zvz9dSnNxKMY1fM5VuNv5wZEbsQVwfnuVYuyRWe.Vz6MkvafFkdG4fVeeaLrUvsgM8uBFeDckQEkXZNuuRfyFW9FC.SeyJ0IjoiZG0iLCJzIjoiaHR0cDovL2hvc3QuZG9ja2VyLmludGVybmFsOjgwODAvZGlkY29tbSIsInIiOltdLCJhIjpbImRpZGNvbW0vdjIiXX0\n",
      "their_did:     did:peer:2.Ez6LScDYx3mPr6MPqLotqgnAnBvNGYoeemrqKNnZTcPXjR7sn.Vz6MkqpxS8rsnD5hTfnJgY3hNSJhp4sv7wxFRpbwoqtsr9gxh.SeyJ0IjoiZG0iLCJzIjoiaHR0cDovL2hvc3QuZG9ja2VyLmludGVybmFsOjgwOTAvZGlkY29tbSIsInIiOltdLCJhIjpbImRpZGNvbW0vdjIiXX0\n",
      "created_at:    2023-05-12 17:54:15.881330+00:00\n",
      "\n",
      "Holder connection:\n",
      "\n",
      "connection_id: 6ec0842c-e924-4417-926d-ab720f609ec5\n",
      "state:         ConnectionResponseReceived\n",
      "label:         <prism_agent_open_api_specification_client.types.Unset object at 0x000002BC3C1E7BE0>\n",
      "my_did:        did:peer:2.Ez6LScDYx3mPr6MPqLotqgnAnBvNGYoeemrqKNnZTcPXjR7sn.Vz6MkqpxS8rsnD5hTfnJgY3hNSJhp4sv7wxFRpbwoqtsr9gxh.SeyJ0IjoiZG0iLCJzIjoiaHR0cDovL2hvc3QuZG9ja2VyLmludGVybmFsOjgwOTAvZGlkY29tbSIsInIiOltdLCJhIjpbImRpZGNvbW0vdjIiXX0\n",
      "their_did:     did:peer:2.Ez6LSpvAM1zvz9dSnNxKMY1fM5VuNv5wZEbsQVwfnuVYuyRWe.Vz6MkvafFkdG4fVeeaLrUvsgM8uBFeDckQEkXZNuuRfyFW9FC.SeyJ0IjoiZG0iLCJzIjoiaHR0cDovL2hvc3QuZG9ja2VyLmludGVybmFsOjgwODAvZGlkY29tbSIsInIiOltdLCJhIjpbImRpZGNvbW0vdjIiXX0\n",
      "created_at:    2023-05-12 17:54:15.922130+00:00\n"
     ]
    }
   ],
   "source": [
    "print(\"Please wait...\")\n",
    "\n",
    "conn_request = CreateConnectionRequest()\n",
    "conn_request.label = f'Issue credential {datetime.datetime.now().strftime(\"%Y-%m-%d %H:%M:%S\")}'\n",
    "issuer_connection: Response[Connection] =  create_connection.sync(client=issuer_client,json_body=conn_request)\n",
    "\n",
    "invitation = get_invitation_str(issuer_connection)\n",
    "\n",
    "accept_conn_request = AcceptConnectionInvitationRequest(invitation)\n",
    "holder_connection: Response[ConnectionInvitation] =  accept_connection_invitation.sync(client=holder_client,json_body=accept_conn_request)\n",
    "\n",
    "\n",
    "issuer_connection: Response[Connection] = get_connection.sync(client=issuer_client,connection_id=issuer_connection.connection_id)\n",
    "holder_connection: Response[Connection] = get_connection.sync(client=holder_client,connection_id=holder_connection.connection_id)\n",
    "\n",
    "print(f\"Issuer connection: {issuer_connection.connection_id}\")\n",
    "print(f\"Holder connection: {holder_connection.connection_id}\\n\")\n",
    "\n",
    "while (issuer_connection.state != 'ConnectionResponseSent' or \n",
    "       not(holder_connection.state == 'ConnectionResponseReceived' or holder_connection.state == 'ConnectionRequestSent')):\n",
    "    issuer_connection: Response[Connection] = get_connection.sync(client=issuer_client,connection_id=issuer_connection.connection_id)\n",
    "    holder_connection: Response[Connection] = get_connection.sync(client=holder_client,connection_id=holder_connection.connection_id)\n",
    "    print(\"Issuer State: {} / Holder State: {}\".format(issuer_connection.state,holder_connection.state))\n",
    "    time.sleep(1)\n",
    "    \n",
    "print(\"Connection established between Issuer and Holder!\")\n",
    "print(\"\\nIssuer connection:\\n\")\n",
    "print_connection(issuer_connection)\n",
    "print(\"\\nHolder connection:\\n\")\n",
    "print_connection(holder_connection)"
   ]
  },
  {
   "attachments": {},
   "cell_type": "markdown",
   "id": "fbb8de82-517c-4aa6-9d0f-506321a719a9",
   "metadata": {},
   "source": [
    "### Holder - Create an unpublished did:prism \n",
    "\n",
    "To issue a verifiable credential, the Holder must provide the credential subject to the Issuer. The credential subject is a DID identifier. We will use a long-form `did:prism` in this example. So the next step is to create an unpublished `did` on the Holder side. It is required to have a key with `purpose` equal to `assertionMethod` in the DID Document template.\n",
    "\n",
    "ℹ️ For details on creating an unpublished `did` see \"Example 02 - DID Registrar\""
   ]
  },
  {
   "cell_type": "code",
   "execution_count": 55,
   "id": "f541a08b-cbd1-4931-99e3-6068a6cbbe9f",
   "metadata": {
    "tags": []
   },
   "outputs": [
    {
     "name": "stdout",
     "output_type": "stream",
     "text": [
      "Subject did (credential subject): did:prism:901e82897cb99a2162326453f322c7d95b2f3ab315b8c7bf70198c6bdeaef520:Cs0CCsoCElkKBGtleTEQBEJPCglzZWNwMjU2azESIFxomrtQC7ULMokasFYDK1KoYRQcg2b7DIf1IeY9gz-oGiD_81jHvoxCD9Z_naz1i-TiB259zV_ZbSieoXDw01rV9RJZCgRrZXkyEAJCTwoJc2VjcDI1NmsxEiC78IJKcxJnLXXhSdGs8d4x1qQnc6pYBkqcKwYaw7UcKBogiP_H6EUjyQ33Z97zoBiSebK768LxEU0NljZuc6NE43USXAoHbWFzdGVyMBABQk8KCXNlY3AyNTZrMRIg3wJOv_5qM038QtcRtAryDI197mcL5dseBwd9k7RjfBcaIJOplGGo87UZKQ0tru4MiwgrQUTvxutLdtxY5AYVQCOJGjQKD2RpZDpwcmlzbTp0ZXN0MRINTGlua2VkRG9tYWlucxoSaHR0cHM6Ly90ZXN0MS5jb20v\n"
     ]
    }
   ],
   "source": [
    "data = { \n",
    "    \"documentTemplate\": {\n",
    "        \"publicKeys\": [\n",
    "            {\n",
    "                \"id\": \"key1\",\n",
    "                \"purpose\": \"authentication\"\n",
    "            },\n",
    "            {\n",
    "                \"id\": \"key2\",\n",
    "                \"purpose\": \"assertionMethod\"\n",
    "            }\n",
    "        ],\n",
    "        \"services\": [\n",
    "            {\n",
    "                \"id\": \"did:prism:test1\",\n",
    "                \"type\": \"LinkedDomains\",\n",
    "                \"serviceEndpoint\": [\n",
    "                    \"https://test1.com\"\n",
    "                ]\n",
    "            }\n",
    "        ]\n",
    "    }\n",
    "}\n",
    "\n",
    "did_request = CreateManagedDidRequest.from_dict(data)\n",
    "subject_did: Response[CreateManagedDIDResponse] = create_managed_did.sync(client=holder_client, json_body=did_request)\n",
    "\n",
    "print(f\"Subject did (credential subject): {subject_did.long_form_did}\")"
   ]
  },
  {
   "attachments": {},
   "cell_type": "markdown",
   "id": "ac37a03f-e3c6-420a-bfd2-15953350f68f",
   "metadata": {},
   "source": [
    "### Issuer - Create and publish a did:prism \n",
    "\n",
    "To issue a verifiable credential, the Issuer must provide the issuing DID. The issuing DID is a DID identifier. We will use a canonical-form `did:prism` in this example. So the next step is to create and publish a `did` on the Issuer side. It is required to have a key with `purpose` equal to `assertionMethod` in the DID Document template.\n",
    "\n",
    "ℹ️ For details on creating and publishing a `did` see \"Example 02 - DID Registrar\""
   ]
  },
  {
   "cell_type": "code",
   "execution_count": 56,
   "id": "09866117-652a-4e5c-a191-25ac673f616d",
   "metadata": {
    "tags": []
   },
   "outputs": [
    {
     "name": "stdout",
     "output_type": "stream",
     "text": [
      "Issuing did: did:prism:d9007f2e87610668109cc449f605251c4f8c9121849e8751c0cddd01487eb24d:Cs0CCsoCElkKBGtleTEQBEJPCglzZWNwMjU2azESIEBJ-8GpRKJuXZjI5CHrsI6d8E6WvFTLsiiwIH4QNKtlGiDGtD3SHvrQW3KPKlmDzDLOC0DWyo1PwphcrIrFTvBvqxJZCgRrZXkyEAJCTwoJc2VjcDI1NmsxEiBM-Cm6lQOTx3LDf3OSWCumJRGAgSboCKF6a6MuenZlqBogbdq8pg3Ef0r9vmnivICi0bAaU0XaUv46V3syDpduR6cSXAoHbWFzdGVyMBABQk8KCXNlY3AyNTZrMRIgAscFpJngPJOf29IOsh7UNGpFqCvhNPUBpFTC4LvsC5saIG6CTL_9I6NUvSvNrktt39Nb1-lgL238KZvWUe3vWhQJGjQKD2RpZDpwcmlzbTp0ZXN0MRINTGlua2VkRG9tYWlucxoSaHR0cHM6Ly90ZXN0MS5jb20v\n",
      "Please wait...\n",
      "Please wait...\n",
      "Please wait...\n",
      "Issuing did published: did:prism:d9007f2e87610668109cc449f605251c4f8c9121849e8751c0cddd01487eb24d\n"
     ]
    }
   ],
   "source": [
    "# Reusing the same did documentTemplate\n",
    "issuing_did: Response[CreateManagedDIDResponse] = create_managed_did.sync(client=issuer_client, json_body=did_request)\n",
    "\n",
    "print(f\"Issuing did: {issuing_did.long_form_did}\")\n",
    "\n",
    "operation_response : (DIDOperationResponse) = publish_managed_did.sync(client=issuer_client, did_ref=issuing_did.long_form_did)\n",
    "\n",
    "print(\"Please wait...\")\n",
    "\n",
    "issuing_did : [DIDResponse] = get_did.sync(client=issuer_client, did_ref=operation_response.scheduled_operation.did_ref)\n",
    "\n",
    "while (isinstance(issuing_did, ErrorResponse)):\n",
    "    issuing_did : [DIDResponse] = get_did.sync(client=issuer_client, did_ref=operation_response.scheduled_operation.did_ref)\n",
    "    print(\"Please wait...\")\n",
    "    time.sleep(10)\n",
    "    \n",
    "print(f\"Issuing did published: {issuing_did.did.id}\")"
   ]
  },
  {
   "attachments": {},
   "cell_type": "markdown",
   "id": "fed2a112-4160-4de0-9673-ffbf37d1bf06",
   "metadata": {},
   "source": [
    "### Issuer - Create credential claim\n",
    "\n",
    "Now that we have the DIDs ready, the next step is for the Issuer to create the credential claim object. The credential claim contains the attributes that will be part of the verifiable credential."
   ]
  },
  {
   "cell_type": "code",
   "execution_count": 57,
   "id": "8fd78b3e-ebd7-466b-a71d-158b7f310d82",
   "metadata": {
    "tags": []
   },
   "outputs": [],
   "source": [
    "data = {\n",
    "        \"firstname\": 'James',\n",
    "        \"lastname\": 'Smith',\n",
    "        \"birthdate\": '01/01/2000'\n",
    "      }\n",
    "\n",
    "credential_claims = IssueCredentialRecordBaseClaims().from_dict(data)"
   ]
  },
  {
   "attachments": {},
   "cell_type": "markdown",
   "id": "a51d2dd2-8355-4193-9900-cf8cd8eea715",
   "metadata": {},
   "source": [
    "### Issuer - Send credential offer\n",
    "\n",
    "Following, the Issuer creates a `CreateIssueCredentialRecordRequest`. It contains the `subject_id`, the `claims` and other metadata. This object is passed to the `create_credential_offer` endpoint.\n",
    "The `create_credential_offer` call creates an `IssueCredentialRecord` on the issuer side, it also sends the credential offer to the Holder."
   ]
  },
  {
   "cell_type": "code",
   "execution_count": 58,
   "id": "28f46366-c57b-4787-b26b-8ae21926c069",
   "metadata": {
    "tags": []
   },
   "outputs": [
    {
     "name": "stdout",
     "output_type": "stream",
     "text": [
      "\n",
      "Issuer credential record:\n",
      "\n",
      "record_id:          7c9edc58-0562-41e1-9c28-5a7a67ee3ee8\n",
      "subject_id:         <prism_agent_open_api_specification_client.types.Unset object at 0x000002BC3C1E7BE0>\n",
      "role:               Issuer\n",
      "protocol_state:     OfferPending\n",
      "created_at:         2023-05-12 17:54:42.175299+00:00\n",
      "updated_at:         <prism_agent_open_api_specification_client.types.Unset object at 0x000002BC3C1E7BE0>\n"
     ]
    }
   ],
   "source": [
    "credential_offer = CreateIssueCredentialRecordRequest(subject_id=subject_did.long_form_did, \n",
    "                                                      issuing_did=issuing_did.did.id,\n",
    "                                                      claims=credential_claims, \n",
    "                                                      connection_id=issuer_connection.connection_id,\n",
    "                                                      validity_period=3600, \n",
    "                                                      automatic_issuance=False)\n",
    "\n",
    "issuer_credential_record: Response[IssueCredentialRecord] = create_credential_offer.sync(client=issuer_client,json_body=credential_offer)\n",
    "\n",
    "print(\"\\nIssuer credential record:\\n\")\n",
    "print_credential_record(issuer_credential_record)"
   ]
  },
  {
   "attachments": {},
   "cell_type": "markdown",
   "id": "77a8f829-74ea-4f98-8d6c-90a40433a0e4",
   "metadata": {},
   "source": [
    "### Holder - Wait for credential offer\n",
    "\n",
    "The Holder waits to receive the credential offer. When received, it will show up in the Holder's credential records list as a new entry with `protocol_state` equal to `OfferReceived`. The code below waits until a credential offer is received and takes the corresponding credential_record."
   ]
  },
  {
   "cell_type": "code",
   "execution_count": 59,
   "id": "90d092f0-87fa-45da-b34f-081af9152a72",
   "metadata": {
    "tags": []
   },
   "outputs": [
    {
     "name": "stdout",
     "output_type": "stream",
     "text": [
      "\n",
      "Holder credential record:\n",
      "\n",
      "record_id:          98e3c8b5-0ff9-4db4-a279-349e79d7df03\n",
      "subject_id:         <prism_agent_open_api_specification_client.types.Unset object at 0x000002BC3C1E7BE0>\n",
      "role:               Holder\n",
      "protocol_state:     OfferReceived\n",
      "created_at:         2023-05-12 17:54:44.087207+00:00\n",
      "updated_at:         <prism_agent_open_api_specification_client.types.Unset object at 0x000002BC3C1E7BE0>\n"
     ]
    }
   ],
   "source": [
    "holder_credential_record = find_credential_record_by_state(holder_client, IssueCredentialRecordAllOfProtocolState.OFFERRECEIVED)\n",
    "\n",
    "while(holder_credential_record == None):\n",
    "    holder_credential_record = find_credential_record_by_state(holder_client, IssueCredentialRecordAllOfProtocolState.OFFERRECEIVED)\n",
    "    time.sleep(1)\n",
    "    \n",
    "print(\"\\nHolder credential record:\\n\")\n",
    "print_credential_record(holder_credential_record)"
   ]
  },
  {
   "attachments": {},
   "cell_type": "markdown",
   "id": "c49cf031-2806-4f47-b9aa-4efc11f99342",
   "metadata": {
    "tags": []
   },
   "source": [
    "### Holder - Accept credential offer\n",
    "\n",
    "Now the Holder uses the `accept_credential_offer` endpoint to accept the credential offer. It must provide the `record_id` of the offer. Accepting the credential offer tells the Issuer that the credential can be issued."
   ]
  },
  {
   "cell_type": "code",
   "execution_count": 60,
   "id": "8a0a2b49-1ea4-4f41-9c87-b21ceb78bf34",
   "metadata": {
    "tags": []
   },
   "outputs": [
    {
     "name": "stdout",
     "output_type": "stream",
     "text": [
      "\n",
      "Holder credential record:\n",
      "\n",
      "record_id:          98e3c8b5-0ff9-4db4-a279-349e79d7df03\n",
      "subject_id:         did:prism:901e82897cb99a2162326453f322c7d95b2f3ab315b8c7bf70198c6bdeaef520\n",
      "role:               Holder\n",
      "protocol_state:     RequestPending\n",
      "created_at:         2023-05-12 17:54:44.087207+00:00\n",
      "updated_at:         2023-05-12 17:54:45.582103+00:00\n"
     ]
    }
   ],
   "source": [
    "accept_credential = AcceptCredentialOfferRequest(subject_id=to_canonical_did(subject_did.long_form_did))\n",
    "\n",
    "holder_credential_record: Response[IssueCredentialRecord] = accept_credential_offer.sync(client=holder_client, record_id=holder_credential_record.record_id, json_body=accept_credential)\n",
    "print(\"\\nHolder credential record:\\n\")\n",
    "print_credential_record(holder_credential_record)"
   ]
  },
  {
   "attachments": {},
   "cell_type": "markdown",
   "id": "b22ba226-c5d9-4590-a270-59a600a2115a",
   "metadata": {},
   "source": [
    "### Issuer - Wait for credential request\n",
    "\n",
    "The Issuer waits to receive the credential request. When received, the credential record state will change to `RequestReceived` in the Issuer's credential records list. The code below waits until a credential request is received and takes the corresponding credential_record."
   ]
  },
  {
   "cell_type": "code",
   "execution_count": 61,
   "id": "dcd1c6d2-6418-4b12-bb87-4dec88a12001",
   "metadata": {
    "tags": []
   },
   "outputs": [
    {
     "name": "stdout",
     "output_type": "stream",
     "text": [
      "Please wait...\n",
      "Issuer credential record: 7c9edc58-0562-41e1-9c28-5a7a67ee3ee8\n",
      "Holder credential record: 98e3c8b5-0ff9-4db4-a279-349e79d7df03\n",
      "\n",
      "Issuer state: OfferPending / Holder State: RequestPending\n",
      "Issuer state: OfferSent / Holder State: RequestGenerated\n",
      "Issuer state: OfferSent / Holder State: RequestGenerated\n",
      "Issuer state: RequestReceived / Holder State: RequestGenerated\n",
      "\n",
      "Issuer credential record:\n",
      "\n",
      "record_id:          7c9edc58-0562-41e1-9c28-5a7a67ee3ee8\n",
      "subject_id:         <prism_agent_open_api_specification_client.types.Unset object at 0x000002BC3C1E7BE0>\n",
      "role:               Issuer\n",
      "protocol_state:     RequestReceived\n",
      "created_at:         2023-05-12 17:54:42.175299+00:00\n",
      "updated_at:         2023-05-12 17:54:48.628565+00:00\n"
     ]
    }
   ],
   "source": [
    "print(\"Please wait...\")\n",
    "\n",
    "issuer_credential_record = get_credential_record.sync(client=issuer_client, record_id=issuer_credential_record.record_id)\n",
    "\n",
    "print(f\"Issuer credential record: {issuer_credential_record.record_id}\")\n",
    "print(f\"Holder credential record: {holder_credential_record.record_id}\\n\")\n",
    "\n",
    "while(issuer_credential_record.protocol_state != IssueCredentialRecordAllOfProtocolState.REQUESTRECEIVED):\n",
    "    issuer_credential_record = get_credential_record.sync(client=issuer_client, record_id=issuer_credential_record.record_id)\n",
    "    holder_credential_record = get_credential_record.sync(client=holder_client, record_id=holder_credential_record.record_id)\n",
    "    print(f\"Issuer state: {issuer_credential_record.protocol_state} / Holder State: {holder_credential_record.protocol_state}\")\n",
    "    time.sleep(1)\n",
    "    \n",
    "print(\"\\nIssuer credential record:\\n\")\n",
    "print_credential_record(issuer_credential_record)"
   ]
  },
  {
   "attachments": {},
   "cell_type": "markdown",
   "id": "208ac467-e00a-4376-93b1-f6843c4fe10f",
   "metadata": {},
   "source": [
    "### Issuer - Accept credential request (issue credential to holder)\n",
    "\n",
    "The Issuer uses the `issue_credential` endpoint to issue the credential. It must provide the `record_id`. When issued the record state changes to `CredentialSent` and the credential is send to the Holder."
   ]
  },
  {
   "cell_type": "code",
   "execution_count": 62,
   "id": "0374cd2a-5094-44f3-ba65-2254015b34ad",
   "metadata": {
    "tags": []
   },
   "outputs": [
    {
     "name": "stdout",
     "output_type": "stream",
     "text": [
      "\n",
      "Issuer credential record:\n",
      "\n",
      "record_id:          7c9edc58-0562-41e1-9c28-5a7a67ee3ee8\n",
      "subject_id:         <prism_agent_open_api_specification_client.types.Unset object at 0x000002BC3C1E7BE0>\n",
      "role:               Issuer\n",
      "protocol_state:     CredentialPending\n",
      "created_at:         2023-05-12 17:54:42.175299+00:00\n",
      "updated_at:         2023-05-12 17:54:50.300266+00:00\n"
     ]
    }
   ],
   "source": [
    "issuer_credential_record: Response[IssueCredentialRecord] = issue_credential.sync(client=issuer_client, record_id=issuer_credential_record.record_id)\n",
    "print(\"\\nIssuer credential record:\\n\")\n",
    "print_credential_record(issuer_credential_record)"
   ]
  },
  {
   "attachments": {},
   "cell_type": "markdown",
   "id": "6658741d-b1b3-4bae-9226-50295235d3d9",
   "metadata": {},
   "source": [
    "### Holder - Wait for credential\n",
    "\n",
    "The Holder waits to receive the credential. When received, it will be added to the Holder's credential record and the `protocol_state` will be updated to `CredentialReceived`. The code below waits until a credential is received."
   ]
  },
  {
   "cell_type": "code",
   "execution_count": 63,
   "id": "42baaa79-ca85-4b32-a28b-b4723a4a92ed",
   "metadata": {
    "tags": []
   },
   "outputs": [
    {
     "name": "stdout",
     "output_type": "stream",
     "text": [
      "Please wait...\n",
      "Issuer credential record: 7c9edc58-0562-41e1-9c28-5a7a67ee3ee8\n",
      "Holder credential record: 98e3c8b5-0ff9-4db4-a279-349e79d7df03\n",
      "\n",
      "Issuer state: CredentialPending / Holder State: RequestGenerated\n",
      "Issuer state: CredentialPending / Holder State: RequestSent\n",
      "Issuer state: CredentialGenerated / Holder State: RequestSent\n",
      "Issuer state: CredentialGenerated / Holder State: RequestSent\n",
      "Issuer state: CredentialGenerated / Holder State: CredentialReceived\n",
      "\n",
      "Holder credential record:\n",
      "\n",
      "record_id:          98e3c8b5-0ff9-4db4-a279-349e79d7df03\n",
      "subject_id:         did:prism:901e82897cb99a2162326453f322c7d95b2f3ab315b8c7bf70198c6bdeaef520\n",
      "role:               Holder\n",
      "protocol_state:     CredentialReceived\n",
      "created_at:         2023-05-12 17:54:44.087207+00:00\n",
      "updated_at:         2023-05-12 17:54:54.278569+00:00\n"
     ]
    }
   ],
   "source": [
    "print(\"Please wait...\")\n",
    "\n",
    "holder_credential_record = get_credential_record.sync(client=holder_client, record_id=holder_credential_record.record_id)\n",
    "\n",
    "print(f\"Issuer credential record: {issuer_credential_record.record_id}\")\n",
    "print(f\"Holder credential record: {holder_credential_record.record_id}\\n\")\n",
    "\n",
    "while(holder_credential_record.protocol_state != IssueCredentialRecordAllOfProtocolState.CREDENTIALRECEIVED):\n",
    "    issuer_credential_record = get_credential_record.sync(client=issuer_client, record_id=issuer_credential_record.record_id)\n",
    "    holder_credential_record = get_credential_record.sync(client=holder_client, record_id=holder_credential_record.record_id)\n",
    "    print(f\"Issuer state: {issuer_credential_record.protocol_state} / Holder State: {holder_credential_record.protocol_state}\")\n",
    "    time.sleep(1)\n",
    "\n",
    "print(\"\\nHolder credential record:\\n\")\n",
    "print_credential_record(holder_credential_record)"
   ]
  },
  {
   "attachments": {},
   "cell_type": "markdown",
   "id": "7495a570-d40d-4b1d-83d8-f3b6a435ff93",
   "metadata": {},
   "source": [
    "### JWT Credential\n",
    "\n",
    "The JWT Credential is available in the holder credential record. The website https://jwt.io/ can be used to decode the credential."
   ]
  },
  {
   "cell_type": "code",
   "execution_count": 64,
   "id": "bb23fcd1-43bb-4195-9785-505e24de50be",
   "metadata": {
    "tags": []
   },
   "outputs": [
    {
     "name": "stdout",
     "output_type": "stream",
     "text": [
      "eyJhbGciOiJFUzI1NksifQ.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.Xonp-3W-txJNDX9SwwIwda3sK4ff1WV6IoClJg29pB96OnCzGrsFdbG0d3A3dkawuVH5rjMeeqKmbvTce_p0Sg\n"
     ]
    }
   ],
   "source": [
    "print(base64.b64decode(holder_credential_record.jwt_credential).decode())"
   ]
  },
  {
   "attachments": {},
   "cell_type": "markdown",
   "id": "dc938d9c-9e87-4072-83f3-8131c4d1b281",
   "metadata": {},
   "source": [
    "### ⚠️ Important Note\n",
    "Keep the Holder credential record identifier at hand, it will be needed to run the next example:"
   ]
  },
  {
   "cell_type": "code",
   "execution_count": 65,
   "id": "82b44917-6b59-4d39-b701-2a189a95a693",
   "metadata": {
    "tags": []
   },
   "outputs": [
    {
     "name": "stdout",
     "output_type": "stream",
     "text": [
      "\n",
      "Holder credential record_id: 98e3c8b5-0ff9-4db4-a279-349e79d7df03\n",
      "\n"
     ]
    }
   ],
   "source": [
    "print(f\"\\nHolder credential record_id: {holder_credential_record.record_id}\\n\")"
   ]
  },
  {
   "attachments": {},
   "cell_type": "markdown",
   "id": "4c5939f1-feba-43f8-9874-28b3ee7d8666",
   "metadata": {},
   "source": [
    "### Decode verifiable credential\n",
    "\n",
    "As an alternative to the website https://jwt.io/ below you will find the code to perform the verifiable credential decoding programmatically:"
   ]
  },
  {
   "attachments": {},
   "cell_type": "markdown",
   "id": "e2612f33-b5be-4b50-9b90-941490020a63",
   "metadata": {},
   "source": [
    "#### Unverified Decoding"
   ]
  },
  {
   "cell_type": "code",
   "execution_count": 66,
   "id": "05945921-ce55-4bb7-86cb-39382272e576",
   "metadata": {
    "tags": []
   },
   "outputs": [
    {
     "name": "stdout",
     "output_type": "stream",
     "text": [
      "{\n",
      "  \"iss\": \"did:prism:d9007f2e87610668109cc449f605251c4f8c9121849e8751c0cddd01487eb24d:Cs0CCsoCElkKBGtleTEQBEJPCglzZWNwMjU2azESIEBJ-8GpRKJuXZjI5CHrsI6d8E6WvFTLsiiwIH4QNKtlGiDGtD3SHvrQW3KPKlmDzDLOC0DWyo1PwphcrIrFTvBvqxJZCgRrZXkyEAJCTwoJc2VjcDI1NmsxEiBM-Cm6lQOTx3LDf3OSWCumJRGAgSboCKF6a6MuenZlqBogbdq8pg3Ef0r9vmnivICi0bAaU0XaUv46V3syDpduR6cSXAoHbWFzdGVyMBABQk8KCXNlY3AyNTZrMRIgAscFpJngPJOf29IOsh7UNGpFqCvhNPUBpFTC4LvsC5saIG6CTL_9I6NUvSvNrktt39Nb1-lgL238KZvWUe3vWhQJGjQKD2RpZDpwcmlzbTp0ZXN0MRINTGlua2VkRG9tYWlucxoSaHR0cHM6Ly90ZXN0MS5jb20v\",\n",
      "  \"sub\": \"did:prism:901e82897cb99a2162326453f322c7d95b2f3ab315b8c7bf70198c6bdeaef520:Cs0CCsoCElkKBGtleTEQBEJPCglzZWNwMjU2azESIFxomrtQC7ULMokasFYDK1KoYRQcg2b7DIf1IeY9gz-oGiD_81jHvoxCD9Z_naz1i-TiB259zV_ZbSieoXDw01rV9RJZCgRrZXkyEAJCTwoJc2VjcDI1NmsxEiC78IJKcxJnLXXhSdGs8d4x1qQnc6pYBkqcKwYaw7UcKBogiP_H6EUjyQ33Z97zoBiSebK768LxEU0NljZuc6NE43USXAoHbWFzdGVyMBABQk8KCXNlY3AyNTZrMRIg3wJOv_5qM038QtcRtAryDI197mcL5dseBwd9k7RjfBcaIJOplGGo87UZKQ0tru4MiwgrQUTvxutLdtxY5AYVQCOJGjQKD2RpZDpwcmlzbTp0ZXN0MRINTGlua2VkRG9tYWlucxoSaHR0cHM6Ly90ZXN0MS5jb20v\",\n",
      "  \"nbf\": 1683914092,\n",
      "  \"exp\": 1683917692,\n",
      "  \"vc\": {\n",
      "    \"credentialSubject\": {\n",
      "      \"firstname\": \"James\",\n",
      "      \"birthdate\": \"01/01/2000\",\n",
      "      \"id\": \"did:prism:901e82897cb99a2162326453f322c7d95b2f3ab315b8c7bf70198c6bdeaef520:Cs0CCsoCElkKBGtleTEQBEJPCglzZWNwMjU2azESIFxomrtQC7ULMokasFYDK1KoYRQcg2b7DIf1IeY9gz-oGiD_81jHvoxCD9Z_naz1i-TiB259zV_ZbSieoXDw01rV9RJZCgRrZXkyEAJCTwoJc2VjcDI1NmsxEiC78IJKcxJnLXXhSdGs8d4x1qQnc6pYBkqcKwYaw7UcKBogiP_H6EUjyQ33Z97zoBiSebK768LxEU0NljZuc6NE43USXAoHbWFzdGVyMBABQk8KCXNlY3AyNTZrMRIg3wJOv_5qM038QtcRtAryDI197mcL5dseBwd9k7RjfBcaIJOplGGo87UZKQ0tru4MiwgrQUTvxutLdtxY5AYVQCOJGjQKD2RpZDpwcmlzbTp0ZXN0MRINTGlua2VkRG9tYWlucxoSaHR0cHM6Ly90ZXN0MS5jb20v\",\n",
      "      \"lastname\": \"Smith\"\n",
      "    },\n",
      "    \"type\": [\n",
      "      \"VerifiableCredential\"\n",
      "    ],\n",
      "    \"@context\": [\n",
      "      \"https://www.w3.org/2018/credentials/v1\"\n",
      "    ]\n",
      "  }\n",
      "}\n"
     ]
    }
   ],
   "source": [
    "try:\n",
    "    jwt_decoded_id_token = jwt.decode(base64.b64decode(holder_credential_record.jwt_credential).decode(), options={\"verify_signature\": False})\n",
    "    # print(jwt_decoded_id_token)\n",
    "    print(json.dumps(jwt_decoded_id_token, indent=2))\n",
    "except (jwt.ExpiredSignatureError, jwt.InvalidAudienceError) as e:\n",
    "    print(\"[ERROR]\", e)"
   ]
  },
  {
   "attachments": {},
   "cell_type": "markdown",
   "id": "7ec83fb6-2659-4aa6-8fad-0111ecd09597",
   "metadata": {},
   "source": [
    "#### Verified Decoding"
   ]
  },
  {
   "attachments": {},
   "cell_type": "markdown",
   "id": "a3470cdb-b0e9-4314-bede-c8f872ecc2dd",
   "metadata": {},
   "source": [
    "##### Resolve Issuer DID"
   ]
  },
  {
   "cell_type": "code",
   "execution_count": 67,
   "id": "2b1f0512-81ba-438a-99a4-3c8c07d312e3",
   "metadata": {
    "tags": []
   },
   "outputs": [
    {
     "name": "stdout",
     "output_type": "stream",
     "text": [
      "{'did': {'id': 'did:prism:d9007f2e87610668109cc449f605251c4f8c9121849e8751c0cddd01487eb24d:Cs0CCsoCElkKBGtleTEQBEJPCglzZWNwMjU2azESIEBJ-8GpRKJuXZjI5CHrsI6d8E6WvFTLsiiwIH4QNKtlGiDGtD3SHvrQW3KPKlmDzDLOC0DWyo1PwphcrIrFTvBvqxJZCgRrZXkyEAJCTwoJc2VjcDI1NmsxEiBM-Cm6lQOTx3LDf3OSWCumJRGAgSboCKF6a6MuenZlqBogbdq8pg3Ef0r9vmnivICi0bAaU0XaUv46V3syDpduR6cSXAoHbWFzdGVyMBABQk8KCXNlY3AyNTZrMRIgAscFpJngPJOf29IOsh7UNGpFqCvhNPUBpFTC4LvsC5saIG6CTL_9I6NUvSvNrktt39Nb1-lgL238KZvWUe3vWhQJGjQKD2RpZDpwcmlzbTp0ZXN0MRINTGlua2VkRG9tYWlucxoSaHR0cHM6Ly90ZXN0MS5jb20v', 'controller': 'did:prism:d9007f2e87610668109cc449f605251c4f8c9121849e8751c0cddd01487eb24d:Cs0CCsoCElkKBGtleTEQBEJPCglzZWNwMjU2azESIEBJ-8GpRKJuXZjI5CHrsI6d8E6WvFTLsiiwIH4QNKtlGiDGtD3SHvrQW3KPKlmDzDLOC0DWyo1PwphcrIrFTvBvqxJZCgRrZXkyEAJCTwoJc2VjcDI1NmsxEiBM-Cm6lQOTx3LDf3OSWCumJRGAgSboCKF6a6MuenZlqBogbdq8pg3Ef0r9vmnivICi0bAaU0XaUv46V3syDpduR6cSXAoHbWFzdGVyMBABQk8KCXNlY3AyNTZrMRIgAscFpJngPJOf29IOsh7UNGpFqCvhNPUBpFTC4LvsC5saIG6CTL_9I6NUvSvNrktt39Nb1-lgL238KZvWUe3vWhQJGjQKD2RpZDpwcmlzbTp0ZXN0MRINTGlua2VkRG9tYWlucxoSaHR0cHM6Ly90ZXN0MS5jb20v', 'verificationMethod': [{'id': 'did:prism:d9007f2e87610668109cc449f605251c4f8c9121849e8751c0cddd01487eb24d:Cs0CCsoCElkKBGtleTEQBEJPCglzZWNwMjU2azESIEBJ-8GpRKJuXZjI5CHrsI6d8E6WvFTLsiiwIH4QNKtlGiDGtD3SHvrQW3KPKlmDzDLOC0DWyo1PwphcrIrFTvBvqxJZCgRrZXkyEAJCTwoJc2VjcDI1NmsxEiBM-Cm6lQOTx3LDf3OSWCumJRGAgSboCKF6a6MuenZlqBogbdq8pg3Ef0r9vmnivICi0bAaU0XaUv46V3syDpduR6cSXAoHbWFzdGVyMBABQk8KCXNlY3AyNTZrMRIgAscFpJngPJOf29IOsh7UNGpFqCvhNPUBpFTC4LvsC5saIG6CTL_9I6NUvSvNrktt39Nb1-lgL238KZvWUe3vWhQJGjQKD2RpZDpwcmlzbTp0ZXN0MRINTGlua2VkRG9tYWlucxoSaHR0cHM6Ly90ZXN0MS5jb20v#key1', 'type': 'EcdsaSecp256k1VerificationKey2019', 'controller': 'did:prism:d9007f2e87610668109cc449f605251c4f8c9121849e8751c0cddd01487eb24d:Cs0CCsoCElkKBGtleTEQBEJPCglzZWNwMjU2azESIEBJ-8GpRKJuXZjI5CHrsI6d8E6WvFTLsiiwIH4QNKtlGiDGtD3SHvrQW3KPKlmDzDLOC0DWyo1PwphcrIrFTvBvqxJZCgRrZXkyEAJCTwoJc2VjcDI1NmsxEiBM-Cm6lQOTx3LDf3OSWCumJRGAgSboCKF6a6MuenZlqBogbdq8pg3Ef0r9vmnivICi0bAaU0XaUv46V3syDpduR6cSXAoHbWFzdGVyMBABQk8KCXNlY3AyNTZrMRIgAscFpJngPJOf29IOsh7UNGpFqCvhNPUBpFTC4LvsC5saIG6CTL_9I6NUvSvNrktt39Nb1-lgL238KZvWUe3vWhQJGjQKD2RpZDpwcmlzbTp0ZXN0MRINTGlua2VkRG9tYWlucxoSaHR0cHM6Ly90ZXN0MS5jb20v', 'publicKeyJwk': {'kty': 'EC', 'crv': 'secp256k1', 'x': 'QEn7walEom5dmMjkIeuwjp3wTpa8VMuyKLAgfhA0q2U', 'y': 'xrQ90h760FtyjypZg8wyzgtA1sqNT8KYXKyKxU7wb6s'}}, {'id': 'did:prism:d9007f2e87610668109cc449f605251c4f8c9121849e8751c0cddd01487eb24d:Cs0CCsoCElkKBGtleTEQBEJPCglzZWNwMjU2azESIEBJ-8GpRKJuXZjI5CHrsI6d8E6WvFTLsiiwIH4QNKtlGiDGtD3SHvrQW3KPKlmDzDLOC0DWyo1PwphcrIrFTvBvqxJZCgRrZXkyEAJCTwoJc2VjcDI1NmsxEiBM-Cm6lQOTx3LDf3OSWCumJRGAgSboCKF6a6MuenZlqBogbdq8pg3Ef0r9vmnivICi0bAaU0XaUv46V3syDpduR6cSXAoHbWFzdGVyMBABQk8KCXNlY3AyNTZrMRIgAscFpJngPJOf29IOsh7UNGpFqCvhNPUBpFTC4LvsC5saIG6CTL_9I6NUvSvNrktt39Nb1-lgL238KZvWUe3vWhQJGjQKD2RpZDpwcmlzbTp0ZXN0MRINTGlua2VkRG9tYWlucxoSaHR0cHM6Ly90ZXN0MS5jb20v#key2', 'type': 'EcdsaSecp256k1VerificationKey2019', 'controller': 'did:prism:d9007f2e87610668109cc449f605251c4f8c9121849e8751c0cddd01487eb24d:Cs0CCsoCElkKBGtleTEQBEJPCglzZWNwMjU2azESIEBJ-8GpRKJuXZjI5CHrsI6d8E6WvFTLsiiwIH4QNKtlGiDGtD3SHvrQW3KPKlmDzDLOC0DWyo1PwphcrIrFTvBvqxJZCgRrZXkyEAJCTwoJc2VjcDI1NmsxEiBM-Cm6lQOTx3LDf3OSWCumJRGAgSboCKF6a6MuenZlqBogbdq8pg3Ef0r9vmnivICi0bAaU0XaUv46V3syDpduR6cSXAoHbWFzdGVyMBABQk8KCXNlY3AyNTZrMRIgAscFpJngPJOf29IOsh7UNGpFqCvhNPUBpFTC4LvsC5saIG6CTL_9I6NUvSvNrktt39Nb1-lgL238KZvWUe3vWhQJGjQKD2RpZDpwcmlzbTp0ZXN0MRINTGlua2VkRG9tYWlucxoSaHR0cHM6Ly90ZXN0MS5jb20v', 'publicKeyJwk': {'kty': 'EC', 'crv': 'secp256k1', 'x': 'TPgpupUDk8dyw39zklgrpiURgIEm6AihemujLnp2Zag', 'y': 'bdq8pg3Ef0r9vmnivICi0bAaU0XaUv46V3syDpduR6c'}}], 'authentication': [{'type': 'REFERENCED', 'uri': 'did:prism:d9007f2e87610668109cc449f605251c4f8c9121849e8751c0cddd01487eb24d:Cs0CCsoCElkKBGtleTEQBEJPCglzZWNwMjU2azESIEBJ-8GpRKJuXZjI5CHrsI6d8E6WvFTLsiiwIH4QNKtlGiDGtD3SHvrQW3KPKlmDzDLOC0DWyo1PwphcrIrFTvBvqxJZCgRrZXkyEAJCTwoJc2VjcDI1NmsxEiBM-Cm6lQOTx3LDf3OSWCumJRGAgSboCKF6a6MuenZlqBogbdq8pg3Ef0r9vmnivICi0bAaU0XaUv46V3syDpduR6cSXAoHbWFzdGVyMBABQk8KCXNlY3AyNTZrMRIgAscFpJngPJOf29IOsh7UNGpFqCvhNPUBpFTC4LvsC5saIG6CTL_9I6NUvSvNrktt39Nb1-lgL238KZvWUe3vWhQJGjQKD2RpZDpwcmlzbTp0ZXN0MRINTGlua2VkRG9tYWlucxoSaHR0cHM6Ly90ZXN0MS5jb20v#key1'}], 'assertionMethod': [{'type': 'REFERENCED', 'uri': 'did:prism:d9007f2e87610668109cc449f605251c4f8c9121849e8751c0cddd01487eb24d:Cs0CCsoCElkKBGtleTEQBEJPCglzZWNwMjU2azESIEBJ-8GpRKJuXZjI5CHrsI6d8E6WvFTLsiiwIH4QNKtlGiDGtD3SHvrQW3KPKlmDzDLOC0DWyo1PwphcrIrFTvBvqxJZCgRrZXkyEAJCTwoJc2VjcDI1NmsxEiBM-Cm6lQOTx3LDf3OSWCumJRGAgSboCKF6a6MuenZlqBogbdq8pg3Ef0r9vmnivICi0bAaU0XaUv46V3syDpduR6cSXAoHbWFzdGVyMBABQk8KCXNlY3AyNTZrMRIgAscFpJngPJOf29IOsh7UNGpFqCvhNPUBpFTC4LvsC5saIG6CTL_9I6NUvSvNrktt39Nb1-lgL238KZvWUe3vWhQJGjQKD2RpZDpwcmlzbTp0ZXN0MRINTGlua2VkRG9tYWlucxoSaHR0cHM6Ly90ZXN0MS5jb20v#key2'}], 'keyAgreement': [], 'capabilityInvocation': [], 'capabilityDelegation': [], 'service': [{'id': 'did:prism:d9007f2e87610668109cc449f605251c4f8c9121849e8751c0cddd01487eb24d:Cs0CCsoCElkKBGtleTEQBEJPCglzZWNwMjU2azESIEBJ-8GpRKJuXZjI5CHrsI6d8E6WvFTLsiiwIH4QNKtlGiDGtD3SHvrQW3KPKlmDzDLOC0DWyo1PwphcrIrFTvBvqxJZCgRrZXkyEAJCTwoJc2VjcDI1NmsxEiBM-Cm6lQOTx3LDf3OSWCumJRGAgSboCKF6a6MuenZlqBogbdq8pg3Ef0r9vmnivICi0bAaU0XaUv46V3syDpduR6cSXAoHbWFzdGVyMBABQk8KCXNlY3AyNTZrMRIgAscFpJngPJOf29IOsh7UNGpFqCvhNPUBpFTC4LvsC5saIG6CTL_9I6NUvSvNrktt39Nb1-lgL238KZvWUe3vWhQJGjQKD2RpZDpwcmlzbTp0ZXN0MRINTGlua2VkRG9tYWlucxoSaHR0cHM6Ly90ZXN0MS5jb20v#did:prism:test1', 'type': 'LinkedDomains', 'serviceEndpoint': ['https://test1.com/']}]}, 'metadata': {'deactivated': False, 'canonicalId': 'did:prism:d9007f2e87610668109cc449f605251c4f8c9121849e8751c0cddd01487eb24d'}}\n"
     ]
    }
   ],
   "source": [
    "did : [DIDResponse] = get_did.sync(client=holder_client, did_ref=jwt_decoded_id_token['iss'])\n",
    "\n",
    "while (isinstance(did, ErrorResponse)):\n",
    "    did : [DIDResponse] = get_did.sync(client=holder_client, did_ref=jwt_decoded_id_token['iss'])\n",
    "    print(\"Please wait...\")\n",
    "    time.sleep(10)\n",
    "\n",
    "print(did.to_dict())"
   ]
  },
  {
   "attachments": {},
   "cell_type": "markdown",
   "id": "c49a3738-8e60-4ffc-9f1d-85a5659de176",
   "metadata": {},
   "source": [
    "##### Extract assertion public JWK"
   ]
  },
  {
   "cell_type": "code",
   "execution_count": 69,
   "id": "5c686ad8-ef46-4f23-928e-d034901b10c9",
   "metadata": {
    "tags": []
   },
   "outputs": [
    {
     "name": "stdout",
     "output_type": "stream",
     "text": [
      "Issuer KeyId\n",
      " did:prism:d9007f2e87610668109cc449f605251c4f8c9121849e8751c0cddd01487eb24d:Cs0CCsoCElkKBGtleTEQBEJPCglzZWNwMjU2azESIEBJ-8GpRKJuXZjI5CHrsI6d8E6WvFTLsiiwIH4QNKtlGiDGtD3SHvrQW3KPKlmDzDLOC0DWyo1PwphcrIrFTvBvqxJZCgRrZXkyEAJCTwoJc2VjcDI1NmsxEiBM-Cm6lQOTx3LDf3OSWCumJRGAgSboCKF6a6MuenZlqBogbdq8pg3Ef0r9vmnivICi0bAaU0XaUv46V3syDpduR6cSXAoHbWFzdGVyMBABQk8KCXNlY3AyNTZrMRIgAscFpJngPJOf29IOsh7UNGpFqCvhNPUBpFTC4LvsC5saIG6CTL_9I6NUvSvNrktt39Nb1-lgL238KZvWUe3vWhQJGjQKD2RpZDpwcmlzbTp0ZXN0MRINTGlua2VkRG9tYWlucxoSaHR0cHM6Ly90ZXN0MS5jb20v#key2\n",
      "Issuer KeyId JWK\n",
      " PublicKeyJwk(kty='EC', crv='secp256k1', x='TPgpupUDk8dyw39zklgrpiURgIEm6AihemujLnp2Zag', y='bdq8pg3Ef0r9vmnivICi0bAaU0XaUv46V3syDpduR6c', additional_properties={})\n"
     ]
    },
    {
     "ename": "NotImplementedError",
     "evalue": "",
     "output_type": "error",
     "traceback": [
      "\u001b[1;31m---------------------------------------------------------------------------\u001b[0m",
      "\u001b[1;31mNotImplementedError\u001b[0m                       Traceback (most recent call last)",
      "\u001b[1;32m<ipython-input-69-f136459c8b68>\u001b[0m in \u001b[0;36m<module>\u001b[1;34m\u001b[0m\n\u001b[0;32m      5\u001b[0m         \u001b[0missuer_jwk\u001b[0m \u001b[1;33m=\u001b[0m \u001b[0mverification_method\u001b[0m\u001b[1;33m.\u001b[0m\u001b[0mpublic_key_jwk\u001b[0m\u001b[1;33m\u001b[0m\u001b[1;33m\u001b[0m\u001b[0m\n\u001b[0;32m      6\u001b[0m \u001b[1;33m\u001b[0m\u001b[0m\n\u001b[1;32m----> 7\u001b[1;33m \u001b[0missuer_pubKey\u001b[0m \u001b[1;33m=\u001b[0m \u001b[0mjwt\u001b[0m\u001b[1;33m.\u001b[0m\u001b[0malgorithms\u001b[0m\u001b[1;33m.\u001b[0m\u001b[0mECAlgorithm\u001b[0m\u001b[1;33m.\u001b[0m\u001b[0mfrom_jwk\u001b[0m\u001b[1;33m(\u001b[0m\u001b[0mjson\u001b[0m\u001b[1;33m.\u001b[0m\u001b[0mdumps\u001b[0m\u001b[1;33m(\u001b[0m\u001b[0missuer_jwk\u001b[0m\u001b[1;33m.\u001b[0m\u001b[0mto_dict\u001b[0m\u001b[1;33m(\u001b[0m\u001b[1;33m)\u001b[0m\u001b[1;33m)\u001b[0m\u001b[1;33m)\u001b[0m\u001b[1;33m\u001b[0m\u001b[1;33m\u001b[0m\u001b[0m\n\u001b[0m        \u001b[1;36mglobal\u001b[0m \u001b[0;36missuer_pubKey\u001b[0m \u001b[1;34m= \u001b[1;36mundefined\u001b[0m\u001b[0m\u001b[1;34m\n        \u001b[0m\u001b[1;36mglobal\u001b[0m \u001b[0;36mjwt.algorithms.ECAlgorithm.from_jwk\u001b[0m \u001b[1;34m= <function Algorithm.from_jwk at 0x000002BC3BFB6CA0>\u001b[0m\u001b[1;34m\n        \u001b[0m\u001b[1;36mglobal\u001b[0m \u001b[0;36mjson.dumps\u001b[0m \u001b[1;34m= <function dumps at 0x000002BC374B19D0>\u001b[0m\u001b[1;34m\n        \u001b[0m\u001b[1;36mglobal\u001b[0m \u001b[0;36missuer_jwk.to_dict\u001b[0m \u001b[1;34m= <bound method PublicKeyJwk.to_dict of PublicKeyJwk(kty='EC', crv='secp256k1', x='TPgpupUDk8dyw39zklgrpiURgIEm6AihemujLnp2Zag', y='bdq8pg3Ef0r9vmnivICi0bAaU0XaUv46V3syDpduR6c', additional_properties={})>\u001b[0m\n",
      "\u001b[1;32mc:\\Python38\\lib\\site-packages\\jwt\\algorithms.py\u001b[0m in \u001b[0;36mfrom_jwk\u001b[1;34m(jwk='{\"kty\": \"EC\", \"crv\": \"secp256k1\", \"x\": \"TPgpupUD...\": \"bdq8pg3Ef0r9vmnivICi0bAaU0XaUv46V3syDpduR6c\"}')\u001b[0m\n\u001b[0;32m    101\u001b[0m                 \u001b[1;34m\"PS512\"\u001b[0m\u001b[1;33m:\u001b[0m \u001b[0mRSAPSSAlgorithm\u001b[0m\u001b[1;33m(\u001b[0m\u001b[0mRSAPSSAlgorithm\u001b[0m\u001b[1;33m.\u001b[0m\u001b[0mSHA512\u001b[0m\u001b[1;33m)\u001b[0m\u001b[1;33m,\u001b[0m\u001b[1;33m\u001b[0m\u001b[1;33m\u001b[0m\u001b[0m\n\u001b[0;32m    102\u001b[0m                 \u001b[1;34m\"EdDSA\"\u001b[0m\u001b[1;33m:\u001b[0m \u001b[0mOKPAlgorithm\u001b[0m\u001b[1;33m(\u001b[0m\u001b[1;33m)\u001b[0m\u001b[1;33m,\u001b[0m\u001b[1;33m\u001b[0m\u001b[1;33m\u001b[0m\u001b[0m\n\u001b[1;32m--> 103\u001b[1;33m             }\n\u001b[0m\u001b[0;32m    104\u001b[0m         )\n\u001b[0;32m    105\u001b[0m \u001b[1;33m\u001b[0m\u001b[0m\n",
      "\u001b[1;31mNotImplementedError\u001b[0m: "
     ]
    }
   ],
   "source": [
    "for verification_method in did.did.verification_method:\n",
    "    if verification_method.id == did.did.assertion_method[0].uri:\n",
    "        print('Issuer KeyId\\n',verification_method.id)\n",
    "        print('Issuer KeyId JWK\\n',verification_method.public_key_jwk)\n",
    "        issuer_jwk = verification_method.public_key_jwk\n",
    "\n",
    "issuer_pubKey = jwt.algorithms.ECAlgorithm.from_jwk(json.dumps(issuer_jwk.to_dict()))"
   ]
  },
  {
   "attachments": {},
   "cell_type": "markdown",
   "id": "db3acf2c-a28f-4e6a-895c-8798ccecf55f",
   "metadata": {},
   "source": [
    "##### Verify Verifiable Credential against resolved Issuer DID and associated authentication public JWK"
   ]
  },
  {
   "cell_type": "code",
   "execution_count": null,
   "id": "76515b88-4fba-46c5-8594-edd683cf086d",
   "metadata": {
    "tags": []
   },
   "outputs": [
    {
     "ename": "NameError",
     "evalue": "name 'issuer_pubKey' is not defined",
     "output_type": "error",
     "traceback": [
      "\u001b[1;31m---------------------------------------------------------------------------\u001b[0m",
      "\u001b[1;31mNameError\u001b[0m                                 Traceback (most recent call last)",
      "\u001b[1;32m<ipython-input-23-71c1d4de3c94>\u001b[0m in \u001b[0;36m<module>\u001b[1;34m\u001b[0m\n\u001b[0;32m      1\u001b[0m \u001b[1;32mtry\u001b[0m\u001b[1;33m:\u001b[0m\u001b[1;33m\u001b[0m\u001b[1;33m\u001b[0m\u001b[0m\n\u001b[1;32m----> 2\u001b[1;33m     \u001b[0mjwt_verified_decoded_id_token\u001b[0m \u001b[1;33m=\u001b[0m \u001b[0mjwt\u001b[0m\u001b[1;33m.\u001b[0m\u001b[0mdecode\u001b[0m\u001b[1;33m(\u001b[0m\u001b[0mbase64\u001b[0m\u001b[1;33m.\u001b[0m\u001b[0mb64decode\u001b[0m\u001b[1;33m(\u001b[0m\u001b[0mholder_credential_record\u001b[0m\u001b[1;33m.\u001b[0m\u001b[0mjwt_credential\u001b[0m\u001b[1;33m)\u001b[0m\u001b[1;33m.\u001b[0m\u001b[0mdecode\u001b[0m\u001b[1;33m(\u001b[0m\u001b[1;33m)\u001b[0m\u001b[1;33m,\u001b[0m \u001b[0mkey\u001b[0m \u001b[1;33m=\u001b[0m \u001b[0missuer_pubKey\u001b[0m\u001b[1;33m,\u001b[0m \u001b[0malgorithms\u001b[0m\u001b[1;33m=\u001b[0m\u001b[1;33m[\u001b[0m\u001b[1;34m\"ES256K\"\u001b[0m\u001b[1;33m]\u001b[0m\u001b[1;33m)\u001b[0m\u001b[1;33m\u001b[0m\u001b[1;33m\u001b[0m\u001b[0m\n\u001b[0m        \u001b[1;36mglobal\u001b[0m \u001b[0;36mjwt_verified_decoded_id_token\u001b[0m \u001b[1;34m= \u001b[1;36mundefined\u001b[0m\u001b[0m\u001b[1;34m\n        \u001b[0m\u001b[1;36mglobal\u001b[0m \u001b[0;36mjwt.decode\u001b[0m \u001b[1;34m= <bound method PyJWT.decode of <jwt.api_jwt.PyJWT object at 0x000002BC3BF144C0>>\u001b[0m\u001b[1;34m\n        \u001b[0m\u001b[1;36mglobal\u001b[0m \u001b[0;36mbase64.b64decode\u001b[0m \u001b[1;34m= <function b64decode at 0x000002BC399FEF70>\u001b[0m\u001b[1;34m\n        \u001b[0m\u001b[1;36mglobal\u001b[0m \u001b[0;36mholder_credential_record.jwt_credential.decode\u001b[0m \u001b[1;34m= \u001b[1;36mundefined\u001b[0m\u001b[0m\u001b[1;34m\n        \u001b[0m\u001b[1;36mglobal\u001b[0m \u001b[0;36mkey\u001b[0m \u001b[1;34m= \u001b[1;36mundefined\u001b[0m\u001b[0m\u001b[1;34m\n        \u001b[0m\u001b[1;36mglobal\u001b[0m \u001b[0;36missuer_pubKey\u001b[0m \u001b[1;34m= \u001b[1;36mundefined\u001b[0m\u001b[0m\u001b[1;34m\n        \u001b[0m\u001b[1;36mglobal\u001b[0m \u001b[0;36malgorithms\u001b[0m \u001b[1;34m= \u001b[1;36mundefined\u001b[0m\u001b[0m\n\u001b[0;32m      3\u001b[0m     \u001b[1;31m# print(jwt_decoded_id_token)\u001b[0m\u001b[1;33m\u001b[0m\u001b[1;33m\u001b[0m\u001b[1;33m\u001b[0m\u001b[0m\n\u001b[0;32m      4\u001b[0m     \u001b[0mprint\u001b[0m\u001b[1;33m(\u001b[0m\u001b[0mjson\u001b[0m\u001b[1;33m.\u001b[0m\u001b[0mdumps\u001b[0m\u001b[1;33m(\u001b[0m\u001b[0mjwt_verified_decoded_id_token\u001b[0m\u001b[1;33m,\u001b[0m \u001b[0mindent\u001b[0m\u001b[1;33m=\u001b[0m\u001b[1;36m2\u001b[0m\u001b[1;33m)\u001b[0m\u001b[1;33m)\u001b[0m\u001b[1;33m\u001b[0m\u001b[1;33m\u001b[0m\u001b[0m\n\u001b[0;32m      5\u001b[0m     \u001b[0mprint\u001b[0m\u001b[1;33m(\u001b[0m\u001b[1;34m\"JWT Signature Verification Successful!\"\u001b[0m\u001b[1;33m)\u001b[0m\u001b[1;33m\u001b[0m\u001b[1;33m\u001b[0m\u001b[0m\n",
      "\u001b[1;31mNameError\u001b[0m: name 'issuer_pubKey' is not defined"
     ]
    }
   ],
   "source": [
    "try:\n",
    "    jwt_verified_decoded_id_token = jwt.decode(base64.b64decode(holder_credential_record.jwt_credential).decode(), key = issuer_pubKey, algorithms=[\"ES256K\"])\n",
    "    # print(jwt_decoded_id_token)\n",
    "    print(json.dumps(jwt_verified_decoded_id_token, indent=2))\n",
    "    print(\"JWT Signature Verification Successful!\")\n",
    "except (jwt.ExpiredSignatureError, jwt.InvalidAudienceError) as e:\n",
    "    print(\"[ERROR]\", e)"
   ]
  },
  {
   "attachments": {},
   "cell_type": "markdown",
   "id": "e8d9360d-869a-4b48-98b0-6a5f9534a592",
   "metadata": {},
   "source": [
    "##### Verify verifiable credential (with modification) against resolved Issuer DID and associated authentication public JWK\n",
    "> NOTE!! This should fail as we tampered with the verifiable credential"
   ]
  },
  {
   "cell_type": "code",
   "execution_count": null,
   "id": "22fccac5-804d-425e-92e4-2656f603dabf",
   "metadata": {
    "tags": []
   },
   "outputs": [],
   "source": [
    "jwt_tampered_id_token = base64.b64decode(holder_credential_record.jwt_credential).decode() + 'x'\n",
    "\n",
    "try:\n",
    "    jwt_tampered_decoded_id_token = jwt.decode(jwt_tampered_id_token, key = issuer_pubKey, algorithms=[\"ES256K\"])\n",
    "    # print(jwt_decoded_id_token)\n",
    "    # print(json.dumps(jwt_tampered_decoded_id_token, indent=2))\n",
    "except (jwt.ExpiredSignatureError, jwt.InvalidAudienceError, jwt.InvalidSignatureError) as e:\n",
    "    print(\"[ERROR]\", e)"
   ]
  },
  {
   "cell_type": "code",
   "execution_count": null,
   "id": "b378e437-bcf9-4e6d-a08b-80bbd8441fa1",
   "metadata": {},
   "outputs": [],
   "source": []
  }
 ],
 "metadata": {
  "kernelspec": {
   "display_name": "Python 3 (ipykernel)",
   "language": "python",
   "name": "python3"
  },
  "language_info": {
   "codemirror_mode": {
    "name": "ipython",
    "version": 3
   },
   "file_extension": ".py",
   "mimetype": "text/x-python",
   "name": "python",
   "nbconvert_exporter": "python",
   "pygments_lexer": "ipython3",
   "version": "3.8.4"
  }
 },
 "nbformat": 4,
 "nbformat_minor": 5
}
