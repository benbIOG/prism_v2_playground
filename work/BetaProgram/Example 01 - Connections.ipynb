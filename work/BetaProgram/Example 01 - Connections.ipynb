{
 "cells": [
  {
   "cell_type": "code",
   "execution_count": 29,
   "id": "6e21cdd9",
   "metadata": {},
   "outputs": [
    {
     "name": "stderr",
     "output_type": "stream",
     "text": [
      "\n"
     ]
    },
    {
     "name": "stdout",
     "output_type": "stream",
     "text": [
      "Requirement already satisfied: ipywidgets in c:\\python38\\lib\\site-packages (from -r ../../requirements.txt (line 1)) (8.0.6)\n"
     ]
    },
    {
     "name": "stderr",
     "output_type": "stream",
     "text": [
      "[notice] A new release of pip is available: 23.0.1 -> 23.1.2\n"
     ]
    },
    {
     "name": "stdout",
     "output_type": "stream",
     "text": [
      "Requirement already satisfied: prompt_toolkit in c:\\users\\beckm\\appdata\\roaming\\python\\python38\\site-packages (from -r ../../requirements.txt (line 2)) (3.0.14)"
     ]
    },
    {
     "name": "stderr",
     "output_type": "stream",
     "text": [
      "[notice] To update, run: python.exe -m pip install --upgrade pip"
     ]
    },
    {
     "name": "stdout",
     "output_type": "stream",
     "text": [
      "\n"
     ]
    },
    {
     "name": "stderr",
     "output_type": "stream",
     "text": [
      "\n"
     ]
    },
    {
     "name": "stdout",
     "output_type": "stream",
     "text": [
      "Requirement already satisfied: pygments in c:\\users\\beckm\\appdata\\roaming\\python\\python38\\site-packages (from -r ../../requirements.txt (line 3)) (2.7.4)\n",
      "Requirement already satisfied: PyPubSub in c:\\python38\\lib\\site-packages (from -r ../../requirements.txt (line 4)) (4.0.3)\n",
      "Requirement already satisfied: python-dotenv in c:\\python38\\lib\\site-packages (from -r ../../requirements.txt (line 5)) (0.15.0)\n",
      "Requirement already satisfied: termcolor in c:\\python38\\lib\\site-packages (from -r ../../requirements.txt (line 6)) (1.1.0)\n",
      "Requirement already satisfied: pillow in c:\\python38\\lib\\site-packages (from -r ../../requirements.txt (line 7)) (8.1.0)\n",
      "Requirement already satisfied: qrcode in c:\\python38\\lib\\site-packages (from -r ../../requirements.txt (line 8)) (7.4.2)\n",
      "Requirement already satisfied: peerdid==0.3.0 in c:\\python38\\lib\\site-packages (from -r ../../requirements.txt (line 9)) (0.3.0)\n",
      "Requirement already satisfied: pyjwt==2.6.0 in c:\\python38\\lib\\site-packages (from -r ../../requirements.txt (line 10)) (2.6.0)\n",
      "Requirement already satisfied: varint~=1.0.2 in c:\\python38\\lib\\site-packages (from peerdid==0.3.0->-r ../../requirements.txt (line 9)) (1.0.2)\n",
      "Requirement already satisfied: base58~=2.1.0 in c:\\python38\\lib\\site-packages (from peerdid==0.3.0->-r ../../requirements.txt (line 9)) (2.1.1)\n",
      "Requirement already satisfied: widgetsnbextension~=4.0.7 in c:\\python38\\lib\\site-packages (from ipywidgets->-r ../../requirements.txt (line 1)) (4.0.7)"
     ]
    }
   ],
   "source": [
    "!pip install -r ../../requirements.txt"
   ]
  },
  {
   "cell_type": "code",
   "execution_count": 30,
   "id": "70ae1f95",
   "metadata": {},
   "outputs": [
    {
     "name": "stdout",
     "output_type": "stream",
     "text": [
      "\n",
      "Requirement already satisfied: ipython>=6.1.0 in c:\\users\\beckm\\appdata\\roaming\\python\\python38\\site-packages (from ipywidgets->-r ../../requirements.txt (line 1)) (7.19.0)\n",
      "Requirement already satisfied: ipykernel>=4.5.1 in c:\\users\\beckm\\appdata\\roaming\\python\\python38\\site-packages (from ipywidgets->-r ../../requirements.txt (line 1)) (5.4.3)\n",
      "Requirement already satisfied: jupyterlab-widgets~=3.0.7 in c:\\python38\\lib\\site-packages (from ipywidgets->-r ../../requirements.txt (line 1)) (3.0.7)\n",
      "Requirement already satisfied: traitlets>=4.3.1 in c:\\users\\beckm\\appdata\\roaming\\python\\python38\\site-packages (from ipywidgets->-r ../../requirements.txt (line 1)) (5.0.5)\n",
      "Requirement already satisfied: wcwidth in c:\\users\\beckm\\appdata\\roaming\\python\\python38\\site-packages (from prompt_toolkit->-r ../../requirements.txt (line 2)) (0.2.5)\n",
      "Requirement already satisfied: pypng in c:\\python38\\lib\\site-packages (from qrcode->-r ../../requirements.txt (line 8)) (0.20220715.0)\n",
      "Requirement already satisfied: typing-extensions in c:\\python38\\lib\\site-packages (from qrcode->-r ../../requirements.txt (line 8)) (3.10.0.0)\n",
      "Requirement already satisfied: colorama in c:\\users\\beckm\\appdata\\roaming\\python\\python38\\site-packages (from qrcode->-r ../../requirements.txt (line 8)) (0.4.4)\n",
      "Requirement already satisfied: tornado>=4.2 in c:\\users\\beckm\\appdata\\roaming\\python\\python38\\site-packages (from ipykernel>=4.5.1->ipywidgets->-r ../../requirements.txt (line 1)) (6.1)\n",
      "Requirement already satisfied: jupyter-client in c:\\users\\beckm\\appdata\\roaming\\python\\python38\\site-packages (from ipykernel>=4.5.1->ipywidgets->-r ../../requirements.txt (line 1)) (6.1.11)\n",
      "Requirement already satisfied: backcall in c:\\users\\beckm\\appdata\\roaming\\python\\python38\\site-packages (from ipython>=6.1.0->ipywidgets->-r ../../requirements.txt (line 1)) (0.2.0)\n",
      "Requirement already satisfied: decorator in c:\\users\\beckm\\appdata\\roaming\\python\\python38\\site-packages (from ipython>=6.1.0->ipywidgets->-r ../../requirements.txt (line 1)) (4.4.2)\n",
      "Requirement already satisfied: pickleshare in c:\\users\\beckm\\appdata\\roaming\\python\\python38\\site-packages (from ipython>=6.1.0->ipywidgets->-r ../../requirements.txt (line 1)) (0.7.5)\n",
      "Requirement already satisfied: jedi>=0.10 in c:\\users\\beckm\\appdata\\roaming\\python\\python38\\site-packages (from ipython>=6.1.0->ipywidgets->-r ../../requirements.txt (line 1)) (0.18.0)\n",
      "Requirement already satisfied: setuptools>=18.5 in c:\\python38\\lib\\site-packages (from ipython>=6.1.0->ipywidgets->-r ../../requirements.txt (line 1)) (47.1.0)\n",
      "Requirement already satisfied: ipython-genutils in c:\\users\\beckm\\appdata\\roaming\\python\\python38\\site-packages (from traitlets>=4.3.1->ipywidgets->-r ../../requirements.txt (line 1)) (0.2.0)\n",
      "Requirement already satisfied: parso<0.9.0,>=0.8.0 in c:\\users\\beckm\\appdata\\roaming\\python\\python38\\site-packages (from jedi>=0.10->ipython>=6.1.0->ipywidgets->-r ../../requirements.txt (line 1)) (0.8.1)\n",
      "Requirement already satisfied: jupyter-core>=4.6.0 in c:\\users\\beckm\\appdata\\roaming\\python\\python38\\site-packages (from jupyter-client->ipykernel>=4.5.1->ipywidgets->-r ../../requirements.txt (line 1)) (4.7.0)\n",
      "Requirement already satisfied: python-dateutil>=2.1 in c:\\python38\\lib\\site-packages (from jupyter-client->ipykernel>=4.5.1->ipywidgets->-r ../../requirements.txt (line 1)) (2.8.0)\n",
      "Requirement already satisfied: pyzmq>=13 in c:\\users\\beckm\\appdata\\roaming\\python\\python38\\site-packages (from jupyter-client->ipykernel>=4.5.1->ipywidgets->-r ../../requirements.txt (line 1)) (21.0.1)\n",
      "Requirement already satisfied: pywin32>=1.0 in c:\\python38\\lib\\site-packages (from jupyter-core>=4.6.0->jupyter-client->ipykernel>=4.5.1->ipywidgets->-r ../../requirements.txt (line 1)) (227)\n",
      "Requirement already satisfied: six>=1.5 in c:\\python38\\lib\\site-packages (from python-dateutil>=2.1->jupyter-client->ipykernel>=4.5.1->ipywidgets->-r ../../requirements.txt (line 1)) (1.15.0)\n"
     ]
    },
    {
     "name": "stdout",
     "output_type": "stream",
     "text": [
      "Obtaining file:///Z:/tmp/prism_v2_playground/work/BetaProgram"
     ]
    },
    {
     "name": "stderr",
     "output_type": "stream",
     "text": [
      "\n"
     ]
    },
    {
     "name": "stdout",
     "output_type": "stream",
     "text": [
      "\n"
     ]
    },
    {
     "name": "stderr",
     "output_type": "stream",
     "text": [
      "[notice] A new release of pip is available: 23.0.1 -> 23.1.2"
     ]
    },
    {
     "name": "stdout",
     "output_type": "stream",
     "text": [
      "  Installing build dependencies: started"
     ]
    },
    {
     "name": "stderr",
     "output_type": "stream",
     "text": [
      "\n"
     ]
    },
    {
     "name": "stdout",
     "output_type": "stream",
     "text": [
      "\n"
     ]
    },
    {
     "name": "stderr",
     "output_type": "stream",
     "text": [
      "[notice] To update, run: python.exe -m pip install --upgrade pip"
     ]
    },
    {
     "name": "stdout",
     "output_type": "stream",
     "text": [
      "  Installing build dependencies: finished with status 'done'"
     ]
    },
    {
     "name": "stderr",
     "output_type": "stream",
     "text": [
      "\n"
     ]
    },
    {
     "name": "stdout",
     "output_type": "stream",
     "text": [
      "\n",
      "  Checking if build backend supports build_editable: started\n",
      "  Checking if build backend supports build_editable: finished with status 'done'\n",
      "  Getting requirements to build editable: started\n",
      "  Getting requirements to build editable: finished with status 'done'\n",
      "  Preparing editable metadata (pyproject.toml): started\n",
      "  Preparing editable metadata (pyproject.toml): finished with status 'done'\n",
      "Requirement already satisfied: attrs>=21.3.0 in c:\\python38\\lib\\site-packages (from prism-agent-open-api-specification-client==0.41.0) (23.1.0)\n",
      "Requirement already satisfied: httpx<0.24.0,>=0.15.4 in c:\\python38\\lib\\site-packages (from prism-agent-open-api-specification-client==0.41.0) (0.23.3)\n",
      "Requirement already satisfied: python-dateutil<3.0.0,>=2.8.0 in c:\\python38\\lib\\site-packages (from prism-agent-open-api-specification-client==0.41.0) (2.8.0)\n",
      "Requirement already satisfied: rfc3986[idna2008]<2,>=1.3 in c:\\python38\\lib\\site-packages (from httpx<0.24.0,>=0.15.4->prism-agent-open-api-specification-client==0.41.0) (1.5.0)\n",
      "Requirement already satisfied: sniffio in c:\\python38\\lib\\site-packages (from httpx<0.24.0,>=0.15.4->prism-agent-open-api-specification-client==0.41.0) (1.3.0)\n",
      "Requirement already satisfied: httpcore<0.17.0,>=0.15.0 in c:\\python38\\lib\\site-packages (from httpx<0.24.0,>=0.15.4->prism-agent-open-api-specification-client==0.41.0) (0.16.3)\n",
      "Requirement already satisfied: certifi in c:\\python38\\lib\\site-packages (from httpx<0.24.0,>=0.15.4->prism-agent-open-api-specification-client==0.41.0) (2020.12.5)\n",
      "Requirement already satisfied: six>=1.5 in c:\\python38\\lib\\site-packages (from python-dateutil<3.0.0,>=2.8.0->prism-agent-open-api-specification-client==0.41.0) (1.15.0)\n",
      "Requirement already satisfied: h11<0.15,>=0.13 in c:\\python38\\lib\\site-packages (from httpcore<0.17.0,>=0.15.0->httpx<0.24.0,>=0.15.4->prism-agent-open-api-specification-client==0.41.0) (0.14.0)\n",
      "Requirement already satisfied: anyio<5.0,>=3.0 in c:\\python38\\lib\\site-packages (from httpcore<0.17.0,>=0.15.0->httpx<0.24.0,>=0.15.4->prism-agent-open-api-specification-client==0.41.0) (3.6.2)\n",
      "Requirement already satisfied: idna in c:\\python38\\lib\\site-packages (from rfc3986[idna2008]<2,>=1.3->httpx<0.24.0,>=0.15.4->prism-agent-open-api-specification-client==0.41.0) (2.10)\n",
      "Building wheels for collected packages: prism-agent-open-api-specification-client\n",
      "  Building editable for prism-agent-open-api-specification-client (pyproject.toml): started\n",
      "  Building editable for prism-agent-open-api-specification-client (pyproject.toml): finished with status 'done'\n",
      "  Created wheel for prism-agent-open-api-specification-client: filename=prism_agent_open_api_specification_client-0.41.0-py3-none-any.whl size=2871 sha256=c9229265fe7403d59ae52574de36d249cfd87b8a2b85b3adfbd659cb5f1065fd\n",
      "  Stored in directory: C:\\Users\\beckm\\AppData\\Local\\Temp\\pip-ephem-wheel-cache-htecdbsf\\wheels\\e4\\2d\\0c\\b0fbb0963c476eae827cce75c1ea48aa09876d2853df295cc9\n",
      "Successfully built prism-agent-open-api-specification-client\n",
      "Installing collected packages: prism-agent-open-api-specification-client\n",
      "  Attempting uninstall: prism-agent-open-api-specification-client\n",
      "    Found existing installation: prism-agent-open-api-specification-client 0.41.0\n",
      "    Uninstalling prism-agent-open-api-specification-client-0.41.0:\n",
      "      Successfully uninstalled prism-agent-open-api-specification-client-0.41.0\n",
      "Successfully installed prism-agent-open-api-specification-client-0.41.0\n"
     ]
    }
   ],
   "source": [
    "!pip install --no-cache-dir -e ."
   ]
  },
  {
   "cell_type": "code",
   "execution_count": 31,
   "id": "ecbfab80",
   "metadata": {},
   "outputs": [
    {
     "name": "stderr",
     "output_type": "stream",
     "text": [
      "\n"
     ]
    },
    {
     "name": "stdout",
     "output_type": "stream",
     "text": [
      "Package                                   Version      Editable project location"
     ]
    },
    {
     "name": "stderr",
     "output_type": "stream",
     "text": [
      "[notice] A new release of pip is available: 23.0.1 -> 23.1.2"
     ]
    },
    {
     "name": "stdout",
     "output_type": "stream",
     "text": [
      "\n"
     ]
    },
    {
     "name": "stderr",
     "output_type": "stream",
     "text": [
      "\n"
     ]
    },
    {
     "name": "stdout",
     "output_type": "stream",
     "text": [
      "----------------------------------------- ------------ -------------------------------------------"
     ]
    },
    {
     "name": "stderr",
     "output_type": "stream",
     "text": [
      "[notice] To update, run: python.exe -m pip install --upgrade pip"
     ]
    },
    {
     "name": "stdout",
     "output_type": "stream",
     "text": [
      "\n"
     ]
    },
    {
     "name": "stderr",
     "output_type": "stream",
     "text": [
      "\n"
     ]
    },
    {
     "name": "stdout",
     "output_type": "stream",
     "text": [
      "addict                                    2.2.1\n",
      "alembic                                   1.4.1\n",
      "anyio                                     3.6.2\n",
      "appdirs                                   1.4.4\n",
      "astroid                                   2.4.2\n",
      "atomicwrites                              1.4.0\n",
      "attrs                                     23.1.0\n",
      "azure-ai-textanalytics                    5.0.0\n",
      "azure-common                              1.1.26\n",
      "azure-core                                1.10.0\n",
      "backcall                                  0.2.0\n",
      "base58                                    2.1.1\n",
      "black                                     23.1.0\n",
      "boto3                                     1.17.70"
     ]
    }
   ],
   "source": [
    "!pip list"
   ]
  },
  {
   "attachments": {},
   "cell_type": "markdown",
   "id": "0911a63e-9a58-4d0f-a4f9-5106ab0a99c6",
   "metadata": {},
   "source": [
    "# Create a connection\n",
    "\n",
    "Establishing a connection between two peers, the Inviter and Invitee, begins with the Inviter creating an out-of-band (oob) invitation. This invitation contains all the necessary information for the Invitee to connect with the Inviter. Once the invitation is created, it must be handed to the Invitee in some way, such as through email, messaging or QR code. Once the Invitee receives the invitation, they must accept it to proceed with the connection. Finally, with the invitation accepted, the connection is established, allowing the two peers to communicate and share data.\n",
    "\n",
    "This example presents the steps required to connect an Inviter and an Invitee."
   ]
  },
  {
   "cell_type": "code",
   "execution_count": 32,
   "id": "5462ef1f-e512-4f39-91e5-4c2b73c5be6b",
   "metadata": {
    "tags": []
   },
   "outputs": [
    {
     "name": "stdout",
     "output_type": "stream",
     "text": [
      "\n",
      "botocore                                  1.20.70\n",
      "build                                     0.3.1.post1\n",
      "cachelib                                  0.1.1\n",
      "cachetools                                4.2.2\n",
      "certifi                                   2020.12.5\n",
      "cffi                                      1.14.4\n",
      "chardet                                   3.0.4\n",
      "click                                     8.1.3\n",
      "cloudpickle                               1.3.0\n",
      "colorama                                  0.4.4\n",
      "commonmark                                0.9.1\n",
      "cryptography                              40.0.2\n",
      "cycler                                    0.10.0\n",
      "databricks-cli                            0.14.3\n",
      "decorator                                 4.4.2\n",
      "deepdiff                                  5.5.0\n",
      "distlib                                   0.3.1\n",
      "docker                                    5.0.0\n",
      "entrypoints                               0.3\n",
      "env                                       0.1.0\n",
      "et-xmlfile                                1.0.1\n",
      "filelock                                  3.0.12\n",
      "flake8                                    3.9.0\n",
      "Flask                                     1.1.2\n",
      "Flask-Session                             0.3.2\n",
      "Flask-SQLAlchemy                          2.4.4\n",
      "gitdb                                     4.0.7\n",
      "GitPython                                 3.1.14\n",
      "google-api-core                           1.26.3\n",
      "google-auth                               1.30.0\n",
      "google-cloud                              0.34.0\n",
      "google-cloud-vision                       2.3.1\n",
      "googleapis-common-protos                  1.53.0\n",
      "graphqlclient                             0.2.4\n",
      "grpcio                                    1.37.1\n",
      "h11                                       0.14.0\n",
      "httpcore                                  0.16.3\n",
      "httpx                                     0.23.3\n",
      "idna                                      2.10\n",
      "imgviz                                    1.2.6\n",
      "iniconfig                                 1.1.1\n",
      "ipykernel                                 5.4.3\n",
      "ipython                                   7.19.0\n",
      "ipython-genutils                          0.2.0\n",
      "ipywidgets                                8.0.6\n",
      "isodate                                   0.6.0\n",
      "isort                                     5.7.0\n",
      "itsdangerous                              1.1.0\n",
      "jdcal                                     1.4.1\n",
      "jedi                                      0.18.0\n",
      "Jinja2                                    2.11.3\n",
      "jmespath                                  0.10.0\n",
      "jsonpickle                                2.0.0\n",
      "jsonschema                                3.2.0\n",
      "jupyter-client                            6.1.11\n",
      "jupyter-core                              4.7.0\n",
      "jupyterlab-widgets                        3.0.7\n",
      "kaggle                                    1.5.8\n",
      "kiwisolver                                1.3.1\n",
      "kodexa                                    3.4.1\n",
      "labelme                                   4.5.7\n",
      "lazy-object-proxy                         1.4.3\n",
      "Mako                                      1.1.4\n",
      "markdown2                                 2.4.0\n",
      "MarkupSafe                                1.1.1\n",
      "matplotlib                                3.2.2\n",
      "mccabe                                    0.6.1\n",
      "mlflow                                    1.17.0\n",
      "msal                                      1.22.0\n",
      "msgpack                                   1.0.0\n",
      "msrest                                    0.6.19\n",
      "mypy-extensions                           1.0.0\n",
      "nbformat                                  5.1.2\n",
      "numpy                                     1.20.0\n",
      "oauthlib                                  3.1.0\n",
      "opencv-python                             4.5.2.52\n",
      "openpyxl                                  3.0.6\n",
      "ordered-set                               4.0.2\n",
      "packaging                                 23.1\n",
      "pandas                                    1.2.1\n",
      "parso                                     0.8.1\n",
      "pathspec                                  0.11.1\n"
     ]
    },
    {
     "name": "stdout",
     "output_type": "stream",
     "text": [
      "peerdid                                   0.3.0\n",
      "pep517                                    0.10.0\n",
      "pickleshare                               0.7.5\n",
      "Pillow                                    8.1.0\n",
      "pip                                       23.0.1\n",
      "pipenv                                    2020.11.15\n"
     ]
    }
   ],
   "source": [
    "#🚨 Run this code cell to import requirements in the Kernel\n",
    "\n",
    "import os\n",
    "import datetime\n",
    "import time\n",
    "import requests\n",
    "from pprint import pprint\n",
    "from dotenv import load_dotenv\n",
    "\n",
    "from prism_agent_open_api_specification_client import Client\n",
    "from prism_agent_open_api_specification_client.models import Connection, ConnectionsPage, ConnectionInvitation,CreateConnectionRequest,AcceptConnectionInvitationRequest\n",
    "from prism_agent_open_api_specification_client.api.connections_management import get_connections,get_connection,create_connection,accept_connection_invitation\n",
    "from prism_agent_open_api_specification_client.types import Response"
   ]
  },
  {
   "attachments": {},
   "cell_type": "markdown",
   "id": "311e0392-b60b-4e23-bf82-eb05aeeecb10",
   "metadata": {},
   "source": [
    "### Utilitary functions"
   ]
  },
  {
   "cell_type": "code",
   "execution_count": 33,
   "id": "9733ecb3-dab9-4c5b-b0c2-025c554150aa",
   "metadata": {
    "tags": []
   },
   "outputs": [
    {
     "name": "stdout",
     "output_type": "stream",
     "text": [
      "platformdirs                              3.5.0\n",
      "pluggy                                    0.13.1\n",
      "ply                                       3.11\n",
      "prism-agent-open-api-specification-client 0.41.0       Z:\\tmp\\prism_v2_playground\\work\\BetaProgram\n",
      "prometheus-client                         0.10.1\n",
      "prometheus-flask-exporter                 0.18.2\n",
      "prompt-toolkit                            3.0.14\n",
      "proto-plus                                1.18.1\n",
      "protobuf                                  3.16.0\n",
      "psycopg2                                  2.8.6\n",
      "py                                        1.10.0\n",
      "pyasn1                                    0.4.8\n",
      "pyasn1-modules                            0.2.8\n",
      "pycodestyle                               2.7.0\n",
      "pycparser                                 2.20\n",
      "pycurl                                    7.43.0.5\n",
      "pyflakes                                  2.3.1\n",
      "Pygments                                  2.7.4\n",
      "PyJWT                                     2.6.0\n",
      "pylint                                    2.6.0\n",
      "pyparsing                                 2.4.7\n",
      "pypng                                     0.20220715.0\n",
      "Pypubsub                                  4.0.3\n",
      "PyQt5                                     5.15.4\n",
      "PyQt5-Qt5                                 5.15.2\n",
      "PyQt5-sip                                 12.9.0\n",
      "pyrsistent                                0.17.3\n",
      "pytest                                    6.2.3\n",
      "python-dateutil                           2.8.0\n",
      "python-dotenv                             0.15.0\n",
      "python-editor                             1.0.4\n",
      "python-slugify                            4.0.1\n",
      "pytz                                      2021.1\n",
      "pywin32                                   227\n",
      "PyYAML                                    5.4.1\n",
      "pyzmq                                     21.0.1\n",
      "qrcode                                    7.4.2\n",
      "QtPy                                      1.9.0\n",
      "querystring-parser                        1.2.4\n",
      "requests                                  2.24.0\n",
      "requests-oauthlib                         1.3.0\n",
      "rfc3986                                   1.5.0\n",
      "rich                                      10.1.0\n",
      "rsa                                       4.7.2\n",
      "s3transfer                                0.4.2\n",
      "scipy                                     1.6.1\n",
      "setuptools                                47.1.0\n",
      "simpleeval                                0.9.10\n",
      "six                                       1.15.0\n",
      "slugify                                   0.0.1\n",
      "smmap                                     4.0.0\n",
      "sniffio                                   1.3.0\n",
      "SQLAlchemy                                1.3.22\n",
      "sqlparse                                  0.4.1\n",
      "tabulate                                  0.8.9\n",
      "termcolor                                 1.1.0\n",
      "text-unidecode                            1.3\n",
      "toml                                      0.10.2\n",
      "tomli                                     2.0.1\n",
      "tornado                                   6.1\n",
      "tqdm                                      4.48.2\n",
      "traitlets                                 5.0.5\n",
      "typing-extensions                         3.10.0.0\n",
      "urllib3                                   1.25.9\n",
      "varint                                    1.0.2\n",
      "virtualenv                                20.4.0\n",
      "virtualenv-clone                          0.5.4\n",
      "waitress                                  2.0.0\n",
      "Wand                                      0.6.6\n",
      "wcwidth                                   0.2.5\n",
      "websocket-client                          0.59.0\n",
      "Werkzeug                                  1.0.1\n",
      "wheel                                     0.36.2\n",
      "widgetsnbextension                        4.0.7\n",
      "wordcloud                                 1.8.1\n",
      "wrapt                                     1.12.1\n"
     ]
    }
   ],
   "source": [
    "def get_invitation_str(connection):\n",
    "    parts = connection.invitation.invitation_url.split(\"=\")\n",
    "    return parts[1]\n",
    "\n",
    "def print_connection(connection):\n",
    "    print(f\"connection_id: {connection.connection_id}\")\n",
    "    print(f\"state:         {connection.state}\")\n",
    "    print(f\"label:         {connection.label}\")\n",
    "    print(f\"my_did:        {connection.my_did}\")\n",
    "    print(f\"their_did:     {connection.their_did}\")\n",
    "    print(f\"created_at:    {connection.created_at}\")\n",
    "    print(f\"OOB Invitation: {get_invitation_str(connection)}\")\n",
    "    \n",
    "troubleshooting_message = f'''\n",
    "🚨 An issue occurred while attempting to interact with the PRISM Agent 🚨\n",
    "\n",
    "- Check that the PRISM Agent you are trying to connect to is up and running, and that it is listening on the correct port. \n",
    "  You can try to connect to the Agent using a different tool to confirm that it is available. \n",
    "  (e.g. `curl --location '<host:port>/prism-agent/connections' --header 'apiKey: <key>'`) \n",
    "- Check if there are any network issues preventing the Notebook from connecting to the Agent. This can include firewalls, \n",
    "  proxies, and other network configurations.\n",
    "- Ensure that the Agent URL is correct, and that the correct API Keys are provided in the variables.env file.\n",
    "- If none of the above solutions work, check the logs of the Agent container to see if there are any more specific error \n",
    "  messages that can help diagnose the issue.'''\n",
    "\n",
    "def preflight(url, api_key):\n",
    "    try:\n",
    "        endpoint = f'{url}/connections'\n",
    "        headers = {'apiKey': api_key}\n",
    "        response = requests.get(endpoint, headers=headers, timeout=15)\n",
    "        if response.status_code == 200:\n",
    "            print(f\"URL ok: {url}\")\n",
    "        else:\n",
    "            raise Exception(f\"URL: {response.url} code: {response.status_code} content: {response.text}\")\n",
    "    except Exception as Ex:\n",
    "        raise Exception(f'{troubleshooting_message}\\n\\nURL: {url}\\nAPI Key: {api_key != \"\"}')"
   ]
  },
  {
   "attachments": {},
   "cell_type": "markdown",
   "id": "46b9afe5-ff61-4116-870b-103d3f065506",
   "metadata": {},
   "source": [
    "### Client instances\n",
    "\n",
    "To start, we will create two separate clients, one for the inviter and one for the invitee, to establish a connection. The roles of the inviter and invitee may overlap with the traditional holder, prover, issuer, and verifier relationships. In some cases, the inviter may also be an issuer or verifier, while the invitee may have the role of a holder or prover. This flexibility allows for different scenarios and use cases to be supported within the same flow.\n",
    "\n",
    "⚠️ Remember to update the file variables.env with the URLs and API keys provided to you.\n"
   ]
  },
  {
   "attachments": {},
   "cell_type": "markdown",
   "id": "11cdb90b-f00c-46b5-bfb9-21099b924aa4",
   "metadata": {
    "tags": []
   },
   "source": [
    "#### ⚠️ NOTE:\n",
    "If your host operating system is a nix-based OS that is not OSX or Windows please ensure you load the `../BetaProgram/variables_linux.env` environment variables.  \n",
    "To do this uncomment the following line in the cell below: `#load_dotenv(\"../BetaProgram/variables-linux.env\")`.  \n",
    "Otherwise you will encounter issues with errors such as `ConnectionRefusedError`, `ConnectError: [Errno <n>] Name or service not known`"
   ]
  },
  {
   "cell_type": "code",
   "execution_count": 34,
   "id": "cb32dc0d-55bc-44cd-865e-19b9502e23d6",
   "metadata": {
    "tags": []
   },
   "outputs": [
    {
     "name": "stdout",
     "output_type": "stream",
     "text": [
      "Exception reporting mode: Minimal\n",
      "URL ok: http://host.docker.internal:8080/prism-agent\n",
      "URL ok: http://host.docker.internal:8090/prism-agent\n",
      "Exception reporting mode: Verbose\n"
     ]
    }
   ],
   "source": [
    "load_dotenv(\"../BetaProgram/variables.env\")\n",
    "#load_dotenv(\"../BetaProgram/variables-linux.env\")\n",
    "\n",
    "inviterApiKey = os.getenv('ISSUER_APIKEY')\n",
    "inviterUrl = os.getenv('ISSUER_URL')\n",
    "\n",
    "inviteeApiKey = os.getenv('HOLDER_APIKEY')\n",
    "inviteeUrl = os.getenv('HOLDER_URL')\n",
    "\n",
    "inviter_client = Client(base_url=inviterUrl, headers={\"apiKey\": inviterApiKey})\n",
    "invitee_client = Client(base_url=inviteeUrl, headers={\"apiKey\": inviteeApiKey})\n",
    "\n",
    "%xmode Minimal\n",
    "\n",
    "preflight(inviterUrl, inviterApiKey)\n",
    "preflight(inviteeUrl, inviteeApiKey)\n",
    "\n",
    "%xmode Verbose"
   ]
  },
  {
   "attachments": {},
   "cell_type": "markdown",
   "id": "0f4ebed2-a890-4463-912c-96cde7ba3961",
   "metadata": {},
   "source": [
    "### Inviter - Create the invitation\n",
    "\n",
    "The Inviter creates an invitation with a `create_connection` request. The only parameter required is a `label` to identify the connection with a human-readable format. \n",
    "\n",
    "The connection state, at the Inviter, will be set to `InvitationGenerated`"
   ]
  },
  {
   "cell_type": "code",
   "execution_count": 35,
   "id": "09aeafb8-16e6-49ae-a75c-a42fa96572b8",
   "metadata": {
    "tags": []
   },
   "outputs": [
    {
     "name": "stdout",
     "output_type": "stream",
     "text": [
      "connection_id: e75c56ba-07fc-4643-bf14-5aec4689d1ab\n",
      "state:         InvitationGenerated\n",
      "label:         Connect 2023-05-12 13:49:35\n",
      "my_did:        <prism_agent_open_api_specification_client.types.Unset object at 0x000002322E5362E0>\n",
      "their_did:     <prism_agent_open_api_specification_client.types.Unset object at 0x000002322E5362E0>\n",
      "created_at:    2023-05-12 17:49:36.048043+00:00\n",
      "OOB Invitation: eyJpZCI6ImU3NWM1NmJhLTA3ZmMtNDY0My1iZjE0LTVhZWM0Njg5ZDFhYiIsInR5cGUiOiJodHRwczovL2RpZGNvbW0ub3JnL291dC1vZi1iYW5kLzIuMC9pbnZpdGF0aW9uIiwiZnJvbSI6ImRpZDpwZWVyOjIuRXo2TFNoZ2hwOWk1d2hqTFJFZFVYRUVXdDlWcjZIWGVEUHBRTVVhRTJHTmhxaGk2Zy5WejZNa3NCdlZYZ3hwelJaSEFDUHlzVGg2OTlROWFRdGhnNmhwVGlodFZncUptUUxnLlNleUowSWpvaVpHMGlMQ0p6SWpvaWFIUjBjRG92TDJodmMzUXVaRzlqYTJWeUxtbHVkR1Z5Ym1Gc09qZ3dPREF2Wkdsa1kyOXRiU0lzSW5JaU9sdGRMQ0poSWpwYkltUnBaR052YlcwdmRqSWlYWDAiLCJib2R5Ijp7ImdvYWxfY29kZSI6ImlvLmF0YWxhcHJpc20uY29ubmVjdCIsImdvYWwiOiJFc3RhYmxpc2ggYSB0cnVzdCBjb25uZWN0aW9uIGJldHdlZW4gdHdvIHBlZXJzIHVzaW5nIHRoZSBwcm90b2NvbCAnaHR0cHM6Ly9hdGFsYXByaXNtLmlvL21lcmN1cnkvY29ubmVjdGlvbnMvMS4wL3JlcXVlc3QnIiwiYWNjZXB0IjpbXX19\n"
     ]
    }
   ],
   "source": [
    "conn_request = CreateConnectionRequest()\n",
    "conn_request.label = f'Connect {datetime.datetime.now().strftime(\"%Y-%m-%d %H:%M:%S\")}'\n",
    "inviter_connection: Response[Connection] =  create_connection.sync(client=inviter_client,json_body=conn_request)\n",
    "\n",
    "invitation = get_invitation_str(inviter_connection)\n",
    "print_connection(inviter_connection)"
   ]
  },
  {
   "attachments": {},
   "cell_type": "markdown",
   "id": "e076cafc-45a0-44b7-ad95-7ead9f5603f8",
   "metadata": {},
   "source": [
    "### Invitee - Accept the invitation \n",
    "\n",
    "When the Inviter creates the invitation, there is no connection on the Invitee side, which is why the invitation is shared out of band. Here we conveniently use a variable to pass the invitation to the Invitee with the `accept_connection_invitation` request.\n",
    "\n",
    "The PRISM Agent does the process to establish the connection automatically, so it may not be possible to track all the protocol steps. They progress as described below:\n",
    "\n",
    "**Invitee:** `ConnectionRequestPending` --> `ConnectionRequestSent` --> `ConnectionResponseReceived`\n",
    "\n",
    "**Inviter:** `InvitationGenerated` --> `ConnectionResponsePending` --> `ConnectionResponseSent`\n",
    "\n",
    "After the next code block is executed, the connection will be established.\n",
    "\n",
    ">**Note -** if the while loop gets stuck replace:  \n",
    ">```while (inviter_connection.state != 'ConnectionResponseSent' or invitee_connection.state != 'ConnectionResponseReceived'):```    \n",
    ">    with:  \n",
    ">```while (inviter_connection.state != 'ConnectionResponseSent' or not(invitee_connection.state == 'ConnectionResponseReceived' or invitee_connection.state == 'ConnectionRequestSent')):```  "
   ]
  },
  {
   "cell_type": "code",
   "execution_count": 36,
   "id": "7a407846-195e-4ed9-9f2d-6c08ba0e94ef",
   "metadata": {
    "tags": []
   },
   "outputs": [
    {
     "name": "stdout",
     "output_type": "stream",
     "text": [
      "Please wait...\n",
      "Inviter State: InvitationGenerated / Invitee State: ConnectionRequestPending \n",
      "\n",
      "Inviter State: ConnectionResponsePending / Invitee State: ConnectionResponseReceived \n",
      "\n",
      "Inviter State: ConnectionResponsePending / Invitee State: ConnectionResponseReceived \n",
      "\n",
      "Inviter State: ConnectionResponseSent / Invitee State: ConnectionResponseReceived \n",
      "\n",
      "Connection established between Issuer and Holder!\n"
     ]
    }
   ],
   "source": [
    "print(\"Please wait...\")\n",
    "\n",
    "accept_conn_request = AcceptConnectionInvitationRequest(invitation)\n",
    "invitee_connection: Response[ConnectionInvitation] =  accept_connection_invitation.sync(client=invitee_client,json_body=accept_conn_request)\n",
    "\n",
    "while (inviter_connection.state != 'ConnectionResponseSent' or invitee_connection.state != 'ConnectionResponseReceived'):\n",
    "    inviter_connection: Response[Connection] = get_connection.sync(client=inviter_client,connection_id=inviter_connection.connection_id)\n",
    "    invitee_connection: Response[Connection] = get_connection.sync(client=invitee_client,connection_id=invitee_connection.connection_id)\n",
    "    print(\"Inviter State: {} / Invitee State: {} \\n\".format(inviter_connection.state,invitee_connection.state))\n",
    "    time.sleep(1)\n",
    "    \n",
    "print(\"Connection established between Issuer and Holder!\")"
   ]
  },
  {
   "attachments": {},
   "cell_type": "markdown",
   "id": "7a3b2d2b-7039-4d93-8adc-9aed8ad7b77a",
   "metadata": {},
   "source": [
    "### Inviter - Check connection\n",
    "\n",
    "The details of the connection on the Inviter side are as presented below:"
   ]
  },
  {
   "cell_type": "code",
   "execution_count": 37,
   "id": "11b7b03d-cddf-483b-b133-67e55bdbafe5",
   "metadata": {
    "tags": []
   },
   "outputs": [
    {
     "name": "stdout",
     "output_type": "stream",
     "text": [
      "connection_id: e75c56ba-07fc-4643-bf14-5aec4689d1ab\n",
      "state:         ConnectionResponseSent\n",
      "label:         Connect 2023-05-12 13:49:35\n",
      "my_did:        did:peer:2.Ez6LShghp9i5whjLREdUXEEWt9Vr6HXeDPpQMUaE2GNhqhi6g.Vz6MksBvVXgxpzRZHACPysTh699Q9aQthg6hpTihtVgqJmQLg.SeyJ0IjoiZG0iLCJzIjoiaHR0cDovL2hvc3QuZG9ja2VyLmludGVybmFsOjgwODAvZGlkY29tbSIsInIiOltdLCJhIjpbImRpZGNvbW0vdjIiXX0\n",
      "their_did:     did:peer:2.Ez6LSgmVfPZCUTBTFpz6AY5oErpxtAzgTKsoTkd3kNxHpnrXR.Vz6MkofJRMoNevtYJDuUq3qaVpr6yfcqnVjeYnCHPw6qah4YK.SeyJ0IjoiZG0iLCJzIjoiaHR0cDovL2hvc3QuZG9ja2VyLmludGVybmFsOjgwOTAvZGlkY29tbSIsInIiOltdLCJhIjpbImRpZGNvbW0vdjIiXX0\n",
      "created_at:    2023-05-12 17:49:36.048043+00:00\n",
      "OOB Invitation: eyJpZCI6ImU3NWM1NmJhLTA3ZmMtNDY0My1iZjE0LTVhZWM0Njg5ZDFhYiIsInR5cGUiOiJodHRwczovL2RpZGNvbW0ub3JnL291dC1vZi1iYW5kLzIuMC9pbnZpdGF0aW9uIiwiZnJvbSI6ImRpZDpwZWVyOjIuRXo2TFNoZ2hwOWk1d2hqTFJFZFVYRUVXdDlWcjZIWGVEUHBRTVVhRTJHTmhxaGk2Zy5WejZNa3NCdlZYZ3hwelJaSEFDUHlzVGg2OTlROWFRdGhnNmhwVGlodFZncUptUUxnLlNleUowSWpvaVpHMGlMQ0p6SWpvaWFIUjBjRG92TDJodmMzUXVaRzlqYTJWeUxtbHVkR1Z5Ym1Gc09qZ3dPREF2Wkdsa1kyOXRiU0lzSW5JaU9sdGRMQ0poSWpwYkltUnBaR052YlcwdmRqSWlYWDAiLCJib2R5Ijp7ImdvYWxfY29kZSI6ImlvLmF0YWxhcHJpc20uY29ubmVjdCIsImdvYWwiOiJFc3RhYmxpc2ggYSB0cnVzdCBjb25uZWN0aW9uIGJldHdlZW4gdHdvIHBlZXJzIHVzaW5nIHRoZSBwcm90b2NvbCAnaHR0cHM6Ly9hdGFsYXByaXNtLmlvL21lcmN1cnkvY29ubmVjdGlvbnMvMS4wL3JlcXVlc3QnIiwiYWNjZXB0IjpbXX19\n"
     ]
    }
   ],
   "source": [
    "inviter_connection: Response[Connection] =  get_connection.sync(client=inviter_client,connection_id=inviter_connection.connection_id)\n",
    "print_connection(inviter_connection)"
   ]
  },
  {
   "attachments": {},
   "cell_type": "markdown",
   "id": "295ed0ca-be80-406b-913c-b4e8ec8011ed",
   "metadata": {},
   "source": [
    "### Invitee - Check connection\n",
    "\n",
    "The details of the connection on the Invitee side are as presented below:"
   ]
  },
  {
   "cell_type": "code",
   "execution_count": 38,
   "id": "3129389a-bca8-4124-9fe8-d6184cee1d71",
   "metadata": {
    "tags": []
   },
   "outputs": [
    {
     "name": "stdout",
     "output_type": "stream",
     "text": [
      "connection_id: 15e3f977-3236-459f-940a-0212f9ede81a\n",
      "state:         ConnectionResponseReceived\n",
      "label:         <prism_agent_open_api_specification_client.types.Unset object at 0x000002322E5362E0>\n",
      "my_did:        did:peer:2.Ez6LSgmVfPZCUTBTFpz6AY5oErpxtAzgTKsoTkd3kNxHpnrXR.Vz6MkofJRMoNevtYJDuUq3qaVpr6yfcqnVjeYnCHPw6qah4YK.SeyJ0IjoiZG0iLCJzIjoiaHR0cDovL2hvc3QuZG9ja2VyLmludGVybmFsOjgwOTAvZGlkY29tbSIsInIiOltdLCJhIjpbImRpZGNvbW0vdjIiXX0\n",
      "their_did:     did:peer:2.Ez6LShghp9i5whjLREdUXEEWt9Vr6HXeDPpQMUaE2GNhqhi6g.Vz6MksBvVXgxpzRZHACPysTh699Q9aQthg6hpTihtVgqJmQLg.SeyJ0IjoiZG0iLCJzIjoiaHR0cDovL2hvc3QuZG9ja2VyLmludGVybmFsOjgwODAvZGlkY29tbSIsInIiOltdLCJhIjpbImRpZGNvbW0vdjIiXX0\n",
      "created_at:    2023-05-12 17:49:36.281202+00:00\n",
      "OOB Invitation: eyJpZCI6ImU3NWM1NmJhLTA3ZmMtNDY0My1iZjE0LTVhZWM0Njg5ZDFhYiIsInR5cGUiOiJodHRwczovL2RpZGNvbW0ub3JnL291dC1vZi1iYW5kLzIuMC9pbnZpdGF0aW9uIiwiZnJvbSI6ImRpZDpwZWVyOjIuRXo2TFNoZ2hwOWk1d2hqTFJFZFVYRUVXdDlWcjZIWGVEUHBRTVVhRTJHTmhxaGk2Zy5WejZNa3NCdlZYZ3hwelJaSEFDUHlzVGg2OTlROWFRdGhnNmhwVGlodFZncUptUUxnLlNleUowSWpvaVpHMGlMQ0p6SWpvaWFIUjBjRG92TDJodmMzUXVaRzlqYTJWeUxtbHVkR1Z5Ym1Gc09qZ3dPREF2Wkdsa1kyOXRiU0lzSW5JaU9sdGRMQ0poSWpwYkltUnBaR052YlcwdmRqSWlYWDAiLCJib2R5Ijp7ImdvYWxfY29kZSI6ImlvLmF0YWxhcHJpc20uY29ubmVjdCIsImdvYWwiOiJFc3RhYmxpc2ggYSB0cnVzdCBjb25uZWN0aW9uIGJldHdlZW4gdHdvIHBlZXJzIHVzaW5nIHRoZSBwcm90b2NvbCAnaHR0cHM6Ly9hdGFsYXByaXNtLmlvL21lcmN1cnkvY29ubmVjdGlvbnMvMS4wL3JlcXVlc3QnIiwiYWNjZXB0IjpbXX19\n"
     ]
    }
   ],
   "source": [
    "invitee_connection: Response[Connection] =  get_connection.sync(client=invitee_client,connection_id=invitee_connection.connection_id)\n",
    "print_connection(invitee_connection)"
   ]
  },
  {
   "attachments": {},
   "cell_type": "markdown",
   "id": "60f90e75-84e5-4002-831e-9fc477b84e31",
   "metadata": {},
   "source": [
    "### List all connections\n",
    "\n",
    "The request `get_connections` retrieves the lists of connections. (only printing the first 3)"
   ]
  },
  {
   "cell_type": "code",
   "execution_count": 39,
   "id": "c984557c-5420-46a3-8f0b-c5f0f8e24c95",
   "metadata": {
    "tags": []
   },
   "outputs": [
    {
     "name": "stdout",
     "output_type": "stream",
     "text": [
      "Inviter connections\n",
      "-------------------\n",
      "\n",
      "(\"[Connection(self_='Connection', \"\n",
      " \"kind='/connections/5ca22728-abaa-493f-acd4-cc04410d6a67', \"\n",
      " \"connection_id='5ca22728-abaa-493f-acd4-cc04410d6a67', \"\n",
      " 'state=<ConnectionAllOfState.CONNECTIONRESPONSESENT: '\n",
      " \"'ConnectionResponseSent'>, created_at=datetime.datetime(2023, 5, 11, 18, 4, \"\n",
      " \"22, 12338, tzinfo=tzutc()), role=<ConnectionAllOfRole.INVITER: 'Inviter'>, \"\n",
      " \"invitation=ConnectionInvitation(id='5ca22728-abaa-493f-acd4-cc04410d6a67', \"\n",
      " \"type='https://didcomm.org/out-of-band/2.0/invitation', \"\n",
      " \"from_='did:peer:2.Ez6LSd5NJs2NXrf6aQygKq9q1CAt4g22rv8LDB4abE8c434nj.Vz6Mkk44fgBnXQDuoDhPutsGwzwNStpUPzFPmBdkcW6yNMoE7.SeyJ0IjoiZG0iLCJzIjoiaHR0cDovL2hvc3QuZG9ja2VyLmludGVybmFsOjgwODAvZGlkY29tbSIsInIiOltdLCJhIjpbImRpZGNvbW0vdjIiXX0', \"\n",
      " \"invitation_url='https://domain.com/path?_oob=eyJpZCI6IjVjYTIyNzI4LWFiYWEtNDkzZi1hY2Q0LWNjMDQ0MTBkNmE2NyIsInR5cGUiOiJodHRwczovL2RpZGNvbW0ub3JnL291dC1vZi1iYW5kLzIuMC9pbnZpdGF0aW9uIiwiZnJvbSI6ImRpZDpwZWVyOjIuRXo2TFNkNU5KczJOWHJmNmFReWdLcTlxMUNBdDRnMjJydjhMREI0YWJFOGM0MzRuai5WejZNa2s0NGZnQm5YUUR1b0RoUHV0c0d3endOU3RwVVB6RlBtQmRrY1c2eU5Nb0U3LlNleUowSWpvaVpHMGlMQ0p6SWpvaWFIUjBjRG92TDJodmMzUXVaRzlqYTJWeUxtbHVkR1Z5Ym1Gc09qZ3dPREF2Wkdsa1kyOXRiU0lzSW5JaU9sdGRMQ0poSWpwYkltUnBaR052YlcwdmRqSWlYWDAiLCJib2R5Ijp7ImdvYWxfY29kZSI6ImlvLmF0YWxhcHJpc20uY29ubmVjdCIsImdvYWwiOiJFc3RhYmxpc2ggYSB0cnVzdCBjb25uZWN0aW9uIGJldHdlZW4gdHdvIHBlZXJzIHVzaW5nIHRoZSBwcm90b2NvbCAnaHR0cHM6Ly9hdGFsYXByaXNtLmlvL21lcmN1cnkvY29ubmVjdGlvbnMvMS4wL3JlcXVlc3QnIiwiYWNjZXB0IjpbXX19', \"\n",
      " \"additional_properties={}), label='Connect 2023-05-11 14:04:21', \"\n",
      " \"my_did='did:peer:2.Ez6LSd5NJs2NXrf6aQygKq9q1CAt4g22rv8LDB4abE8c434nj.Vz6Mkk44fgBnXQDuoDhPutsGwzwNStpUPzFPmBdkcW6yNMoE7.SeyJ0IjoiZG0iLCJzIjoiaHR0cDovL2hvc3QuZG9ja2VyLmludGVybmFsOjgwODAvZGlkY29tbSIsInIiOltdLCJhIjpbImRpZGNvbW0vdjIiXX0', \"\n",
      " \"their_did='did:peer:2.Ez6LSnnGg7S61YjHDFvgGCcJcEykZZ3mMvUCmmuvq3QnPYrwV.Vz6MkiTtu8VHjjroruuwcob9zAq9qj5oD1TDEfxGFWaFWieUo.SeyJ0IjoiZG0iLCJzIjoiaHR0cDovL2hvc3QuZG9ja2VyLmludGVybmFsOjgwOTAvZGlkY29tbSIsInIiOltdLCJhIjpbImRpZGNvbW0vdjIiXX0', \"\n",
      " 'updated_at=datetime.datetime(2023, 5, 11, 18, 4, 34, 790565, '\n",
      " \"tzinfo=tzutc()), additional_properties={}), Connection(self_='Connection', \"\n",
      " \"kind='/connections/7b15131d-96be-46b3-9eff-05e22393590f', \"\n",
      " \"connection_id='7b15131d-96be-46b3-9eff-05e22393590f', \"\n",
      " 'state=<ConnectionAllOfState.CONNECTIONRESPONSESENT: '\n",
      " \"'ConnectionResponseSent'>, created_at=datetime.datetime(2023, 5, 11, 18, 6, \"\n",
      " \"22, 199725, tzinfo=tzutc()), role=<ConnectionAllOfRole.INVITER: 'Inviter'>, \"\n",
      " \"invitation=ConnectionInvitation(id='7b15131d-96be-46b3-9eff-05e22393590f', \"\n",
      " \"type='https://didcomm.org/out-of-band/2.0/invitation', \"\n",
      " \"from_='did:peer:2.Ez6LSe9CAyYmvBhLJWQWy9dPxpnhLZGY2LFy2aKY6SYjqrk9e.Vz6MkkQjJiDAZh7wQxd7D4kXtMcU89p6P96BZjzC9vp4zMZgt.SeyJ0IjoiZG0iLCJzIjoiaHR0cDovL2hvc3QuZG9ja2VyLmludGVybmFsOjgwODAvZGlkY29tbSIsInIiOltdLCJhIjpbImRpZGNvbW0vdjIiXX0', \"\n",
      " \"invitation_url='https://domain.com/path?_oob=eyJpZCI6IjdiMTUxMzFkLTk2YmUtNDZiMy05ZWZmLTA1ZTIyMzkzNTkwZiIsInR5cGUiOiJodHRwczovL2RpZGNvbW0ub3JnL291dC1vZi1iYW5kLzIuMC9pbnZpdGF0aW9uIiwiZnJvbSI6ImRpZDpwZWVyOjIuRXo2TFNlOUNBeVltdkJoTEpXUVd5OWRQeHBuaExaR1kyTEZ5MmFLWTZTWWpxcms5ZS5WejZNa2tRakppREFaaDd3UXhkN0Q0a1h0TWNVODlwNlA5NkJaanpDOXZwNHpNWmd0LlNleUowSWpvaVpHMGlMQ0p6SWpvaWFIUjBjRG92TDJodmMzUXVaRzlqYTJWeUxtbHVkR1Z5Ym1Gc09qZ3dPREF2Wkdsa1kyOXRiU0lzSW5JaU9sdGRMQ0poSWpwYkltUnBaR052YlcwdmRqSWlYWDAiLCJib2R5Ijp7ImdvYWxfY29kZSI6ImlvLmF0YWxhcHJpc20uY29ubmVjdCIsImdvYWwiOiJFc3RhYmxpc2ggYSB0cnVzdCBjb25uZWN0aW9uIGJldHdlZW4gdHdvIHBlZXJzIHVzaW5nIHRoZSBwcm90b2NvbCAnaHR0cHM6Ly9hdGFsYXByaXNtLmlvL21lcmN1cnkvY29ubmVjdGlvbnMvMS4wL3JlcXVlc3QnIiwiYWNjZXB0IjpbXX19', \"\n",
      " \"additional_properties={}), label='Issue credential 2023-05-11 14:06:22', \"\n",
      " \"my_did='did:peer:2.Ez6LSe9CAyYmvBhLJWQWy9dPxpnhLZGY2LFy2aKY6SYjqrk9e.Vz6MkkQjJiDAZh7wQxd7D4kXtMcU89p6P96BZjzC9vp4zMZgt.SeyJ0IjoiZG0iLCJzIjoiaHR0cDovL2hvc3QuZG9ja2VyLmludGVybmFsOjgwODAvZGlkY29tbSIsInIiOltdLCJhIjpbImRpZGNvbW0vdjIiXX0', \"\n",
      " \"their_did='did:peer:2.Ez6LShofaV2MrN1ZGYeRjQ65zBfPrKGVXVEbQ4mM6EduefwEz.Vz6MkmZ6QzmYECGTdSRr46XrSt8CKPHHPQGSBH6E1a3HkM9c6.SeyJ0IjoiZG0iLCJzIjoiaHR0cDovL2hvc3QuZG9ja2VyLmludGVybmFsOjgwOTAvZGlkY29tbSIsInIiOltdLCJhIjpbImRpZGNvbW0vdjIiXX0', \"\n",
      " 'updated_at=datetime.datetime(2023, 5, 11, 18, 6, 25, 287585, '\n",
      " \"tzinfo=tzutc()), additional_properties={}), Connection(self_='Connection', \"\n",
      " \"kind='/connections/3e5590a0-f8a7-4e03-a750-73cac2caf85a', \"\n",
      " \"connection_id='3e5590a0-f8a7-4e03-a750-73cac2caf85a', \"\n",
      " 'state=<ConnectionAllOfState.CONNECTIONRESPONSESENT: '\n",
      " \"'ConnectionResponseSent'>, created_at=datetime.datetime(2023, 5, 11, 18, 19, \"\n",
      " \"45, 485523, tzinfo=tzutc()), role=<ConnectionAllOfRole.INVITER: 'Inviter'>, \"\n",
      " \"invitation=ConnectionInvitation(id='3e5590a0-f8a7-4e03-a750-73cac2caf85a', \"\n",
      " \"type='https://didcomm.org/out-of-band/2.0/invitation', \"\n",
      " \"from_='did:peer:2.Ez6LSguy96Vf9NzzejniycBoWjNdMKaXtw9swzNfNHxyziRz5.Vz6MkrsaYZCVWx4s6iejYViZ9RRGvZFjCogroJM3ewum6WV7d.SeyJ0IjoiZG0iLCJzIjoiaHR0cDovL2hvc3QuZG9ja2VyLmludGVybmFsOjgwODAvZGlkY29tbSIsInIiOltdLCJhIjpbImRpZGNvbW0vdjIiXX0', \"\n",
      " \"invitation_url='https://domain.com/path?_oob=eyJpZCI6IjNlNTU5MGEwLWY4YTctNGUwMy1hNzUwLTczY2FjMmNhZjg1YSIsInR5cGUiOiJodHRwczovL2RpZGNvbW0ub3JnL291dC1vZi1iYW5kLzIuMC9pbnZpdGF0aW9uIiwiZnJvbSI6ImRpZDpwZWVyOjIuRXo2TFNndXk5NlZmOU56emVqbml5Y0JvV2pOZE1LYVh0dzlzd3pOZk5IeHl6aVJ6NS5WejZNa3JzYVlaQ1ZXeDRzNmllallWaVo5UlJHdlpGakNvZ3JvSk0zZXd1bTZXVjdkLlNleUowSWpvaVpHMGlMQ0p6SWpvaWFIUjBjRG92TDJodmMzUXVaRzlqYTJWeUxtbHVkR1Z5Ym1Gc09qZ3dPREF2Wkdsa1kyOXRiU0lzSW5JaU9sdGRMQ0poSWpwYkltUnBaR052YlcwdmRqSWlYWDAiLCJib2R5Ijp7ImdvYWxfY29kZSI6ImlvLmF0YWxhcHJpc20uY29ubmVjdCIsImdvYWwiOiJFc3RhYmxpc2ggYSB0cnVzdCBjb25uZWN0aW9uIGJldHdlZW4gdHdvIHBlZXJzIHVzaW5nIHRoZSBwcm90b2NvbCAnaHR0cHM6Ly9hdGFsYXByaXNtLmlvL21lcmN1cnkvY29ubmVjdGlvbnMvMS4wL3JlcXVlc3QnIiwiYWNjZXB0IjpbXX19', \"\n",
      " \"additional_properties={}), label='Issue credential 2023-05-11 14:19:45', \"\n",
      " \"my_did='did:peer:2.Ez6LSguy96Vf9NzzejniycBoWjNdMKaXtw9swzNfNHxyziRz5.Vz6MkrsaYZCVWx4s6iejYViZ9RRGvZFjCogroJM3ewum6WV7d.SeyJ0IjoiZG0iLCJzIjoiaHR0cDovL2hvc3QuZG9ja2VyLmludGVybmFsOjgwODAvZGlkY29tbSIsInIiOltdLCJhIjpbImRpZGNvbW0vdjIiXX0', \"\n",
      " \"their_did='did:peer:2.Ez6LSjE7dDbFmHpbFh8Qb3VffDGQtP9kHuDMFaA7ibxnv7QCf.Vz6MkhgHSSEYbUAd1QcHrhdCAZukdhC4WrXa3gSqiw5AnmJqr.SeyJ0IjoiZG0iLCJzIjoiaHR0cDovL2hvc3QuZG9ja2VyLmludGVybmFsOjgwOTAvZGlkY29tbSIsInIiOltdLCJhIjpbImRpZGNvbW0vdjIiXX0', \"\n",
      " 'updated_at=datetime.datetime(2023, 5, 11, 18, 19, 48, 671307, '\n",
      " 'tzinfo=tzutc()), additional_properties={})]')\n",
      "\n",
      "Invitee connections\n",
      "-------------------\n",
      "\n",
      "(\"[Connection(self_='Connection', \"\n",
      " \"kind='/connections/7b87714d-edfc-4ad9-a9b0-c94d6b46e48c', \"\n",
      " \"connection_id='7b87714d-edfc-4ad9-a9b0-c94d6b46e48c', \"\n",
      " 'state=<ConnectionAllOfState.CONNECTIONRESPONSERECEIVED: '\n",
      " \"'ConnectionResponseReceived'>, created_at=datetime.datetime(2023, 5, 11, 18, \"\n",
      " '4, 28, 304407, tzinfo=tzutc()), role=<ConnectionAllOfRole.INVITEE: '\n",
      " \"'Invitee'>, \"\n",
      " \"invitation=ConnectionInvitation(id='5ca22728-abaa-493f-acd4-cc04410d6a67', \"\n",
      " \"type='https://didcomm.org/out-of-band/2.0/invitation', \"\n",
      " \"from_='did:peer:2.Ez6LSd5NJs2NXrf6aQygKq9q1CAt4g22rv8LDB4abE8c434nj.Vz6Mkk44fgBnXQDuoDhPutsGwzwNStpUPzFPmBdkcW6yNMoE7.SeyJ0IjoiZG0iLCJzIjoiaHR0cDovL2hvc3QuZG9ja2VyLmludGVybmFsOjgwODAvZGlkY29tbSIsInIiOltdLCJhIjpbImRpZGNvbW0vdjIiXX0', \"\n",
      " \"invitation_url='https://domain.com/path?_oob=eyJpZCI6IjVjYTIyNzI4LWFiYWEtNDkzZi1hY2Q0LWNjMDQ0MTBkNmE2NyIsInR5cGUiOiJodHRwczovL2RpZGNvbW0ub3JnL291dC1vZi1iYW5kLzIuMC9pbnZpdGF0aW9uIiwiZnJvbSI6ImRpZDpwZWVyOjIuRXo2TFNkNU5KczJOWHJmNmFReWdLcTlxMUNBdDRnMjJydjhMREI0YWJFOGM0MzRuai5WejZNa2s0NGZnQm5YUUR1b0RoUHV0c0d3endOU3RwVVB6RlBtQmRrY1c2eU5Nb0U3LlNleUowSWpvaVpHMGlMQ0p6SWpvaWFIUjBjRG92TDJodmMzUXVaRzlqYTJWeUxtbHVkR1Z5Ym1Gc09qZ3dPREF2Wkdsa1kyOXRiU0lzSW5JaU9sdGRMQ0poSWpwYkltUnBaR052YlcwdmRqSWlYWDAiLCJib2R5Ijp7ImdvYWxfY29kZSI6ImlvLmF0YWxhcHJpc20uY29ubmVjdCIsImdvYWwiOiJFc3RhYmxpc2ggYSB0cnVzdCBjb25uZWN0aW9uIGJldHdlZW4gdHdvIHBlZXJzIHVzaW5nIHRoZSBwcm90b2NvbCAnaHR0cHM6Ly9hdGFsYXByaXNtLmlvL21lcmN1cnkvY29ubmVjdGlvbnMvMS4wL3JlcXVlc3QnIiwiYWNjZXB0IjpbXX19', \"\n",
      " 'additional_properties={}), '\n",
      " 'label=<prism_agent_open_api_specification_client.types.Unset object at '\n",
      " '0x000002322E5362E0>, '\n",
      " \"my_did='did:peer:2.Ez6LSnnGg7S61YjHDFvgGCcJcEykZZ3mMvUCmmuvq3QnPYrwV.Vz6MkiTtu8VHjjroruuwcob9zAq9qj5oD1TDEfxGFWaFWieUo.SeyJ0IjoiZG0iLCJzIjoiaHR0cDovL2hvc3QuZG9ja2VyLmludGVybmFsOjgwOTAvZGlkY29tbSIsInIiOltdLCJhIjpbImRpZGNvbW0vdjIiXX0', \"\n",
      " \"their_did='did:peer:2.Ez6LSd5NJs2NXrf6aQygKq9q1CAt4g22rv8LDB4abE8c434nj.Vz6Mkk44fgBnXQDuoDhPutsGwzwNStpUPzFPmBdkcW6yNMoE7.SeyJ0IjoiZG0iLCJzIjoiaHR0cDovL2hvc3QuZG9ja2VyLmludGVybmFsOjgwODAvZGlkY29tbSIsInIiOltdLCJhIjpbImRpZGNvbW0vdjIiXX0', \"\n",
      " 'updated_at=datetime.datetime(2023, 5, 11, 18, 4, 32, 678629, '\n",
      " \"tzinfo=tzutc()), additional_properties={}), Connection(self_='Connection', \"\n",
      " \"kind='/connections/c63beea3-266b-482e-a5f7-3135f05dd827', \"\n",
      " \"connection_id='c63beea3-266b-482e-a5f7-3135f05dd827', \"\n",
      " 'state=<ConnectionAllOfState.CONNECTIONRESPONSERECEIVED: '\n",
      " \"'ConnectionResponseReceived'>, created_at=datetime.datetime(2023, 5, 11, 18, \"\n",
      " '6, 22, 231334, tzinfo=tzutc()), role=<ConnectionAllOfRole.INVITEE: '\n",
      " \"'Invitee'>, \"\n",
      " \"invitation=ConnectionInvitation(id='7b15131d-96be-46b3-9eff-05e22393590f', \"\n",
      " \"type='https://didcomm.org/out-of-band/2.0/invitation', \"\n",
      " \"from_='did:peer:2.Ez6LSe9CAyYmvBhLJWQWy9dPxpnhLZGY2LFy2aKY6SYjqrk9e.Vz6MkkQjJiDAZh7wQxd7D4kXtMcU89p6P96BZjzC9vp4zMZgt.SeyJ0IjoiZG0iLCJzIjoiaHR0cDovL2hvc3QuZG9ja2VyLmludGVybmFsOjgwODAvZGlkY29tbSIsInIiOltdLCJhIjpbImRpZGNvbW0vdjIiXX0', \"\n",
      " \"invitation_url='https://domain.com/path?_oob=eyJpZCI6IjdiMTUxMzFkLTk2YmUtNDZiMy05ZWZmLTA1ZTIyMzkzNTkwZiIsInR5cGUiOiJodHRwczovL2RpZGNvbW0ub3JnL291dC1vZi1iYW5kLzIuMC9pbnZpdGF0aW9uIiwiZnJvbSI6ImRpZDpwZWVyOjIuRXo2TFNlOUNBeVltdkJoTEpXUVd5OWRQeHBuaExaR1kyTEZ5MmFLWTZTWWpxcms5ZS5WejZNa2tRakppREFaaDd3UXhkN0Q0a1h0TWNVODlwNlA5NkJaanpDOXZwNHpNWmd0LlNleUowSWpvaVpHMGlMQ0p6SWpvaWFIUjBjRG92TDJodmMzUXVaRzlqYTJWeUxtbHVkR1Z5Ym1Gc09qZ3dPREF2Wkdsa1kyOXRiU0lzSW5JaU9sdGRMQ0poSWpwYkltUnBaR052YlcwdmRqSWlYWDAiLCJib2R5Ijp7ImdvYWxfY29kZSI6ImlvLmF0YWxhcHJpc20uY29ubmVjdCIsImdvYWwiOiJFc3RhYmxpc2ggYSB0cnVzdCBjb25uZWN0aW9uIGJldHdlZW4gdHdvIHBlZXJzIHVzaW5nIHRoZSBwcm90b2NvbCAnaHR0cHM6Ly9hdGFsYXByaXNtLmlvL21lcmN1cnkvY29ubmVjdGlvbnMvMS4wL3JlcXVlc3QnIiwiYWNjZXB0IjpbXX19', \"\n",
      " 'additional_properties={}), '\n",
      " 'label=<prism_agent_open_api_specification_client.types.Unset object at '\n",
      " '0x000002322E5362E0>, '\n",
      " \"my_did='did:peer:2.Ez6LShofaV2MrN1ZGYeRjQ65zBfPrKGVXVEbQ4mM6EduefwEz.Vz6MkmZ6QzmYECGTdSRr46XrSt8CKPHHPQGSBH6E1a3HkM9c6.SeyJ0IjoiZG0iLCJzIjoiaHR0cDovL2hvc3QuZG9ja2VyLmludGVybmFsOjgwOTAvZGlkY29tbSIsInIiOltdLCJhIjpbImRpZGNvbW0vdjIiXX0', \"\n",
      " \"their_did='did:peer:2.Ez6LSe9CAyYmvBhLJWQWy9dPxpnhLZGY2LFy2aKY6SYjqrk9e.Vz6MkkQjJiDAZh7wQxd7D4kXtMcU89p6P96BZjzC9vp4zMZgt.SeyJ0IjoiZG0iLCJzIjoiaHR0cDovL2hvc3QuZG9ja2VyLmludGVybmFsOjgwODAvZGlkY29tbSIsInIiOltdLCJhIjpbImRpZGNvbW0vdjIiXX0', \"\n",
      " 'updated_at=datetime.datetime(2023, 5, 11, 18, 6, 23, 250627, '\n",
      " \"tzinfo=tzutc()), additional_properties={}), Connection(self_='Connection', \"\n",
      " \"kind='/connections/ee4b22c5-1d89-4acb-9bbd-871fe7a5e004', \"\n",
      " \"connection_id='ee4b22c5-1d89-4acb-9bbd-871fe7a5e004', \"\n",
      " 'state=<ConnectionAllOfState.CONNECTIONRESPONSERECEIVED: '\n",
      " \"'ConnectionResponseReceived'>, created_at=datetime.datetime(2023, 5, 11, 18, \"\n",
      " '19, 45, 589243, tzinfo=tzutc()), role=<ConnectionAllOfRole.INVITEE: '\n",
      " \"'Invitee'>, \"\n",
      " \"invitation=ConnectionInvitation(id='3e5590a0-f8a7-4e03-a750-73cac2caf85a', \"\n",
      " \"type='https://didcomm.org/out-of-band/2.0/invitation', \"\n",
      " \"from_='did:peer:2.Ez6LSguy96Vf9NzzejniycBoWjNdMKaXtw9swzNfNHxyziRz5.Vz6MkrsaYZCVWx4s6iejYViZ9RRGvZFjCogroJM3ewum6WV7d.SeyJ0IjoiZG0iLCJzIjoiaHR0cDovL2hvc3QuZG9ja2VyLmludGVybmFsOjgwODAvZGlkY29tbSIsInIiOltdLCJhIjpbImRpZGNvbW0vdjIiXX0', \"\n",
      " \"invitation_url='https://domain.com/path?_oob=eyJpZCI6IjNlNTU5MGEwLWY4YTctNGUwMy1hNzUwLTczY2FjMmNhZjg1YSIsInR5cGUiOiJodHRwczovL2RpZGNvbW0ub3JnL291dC1vZi1iYW5kLzIuMC9pbnZpdGF0aW9uIiwiZnJvbSI6ImRpZDpwZWVyOjIuRXo2TFNndXk5NlZmOU56emVqbml5Y0JvV2pOZE1LYVh0dzlzd3pOZk5IeHl6aVJ6NS5WejZNa3JzYVlaQ1ZXeDRzNmllallWaVo5UlJHdlpGakNvZ3JvSk0zZXd1bTZXVjdkLlNleUowSWpvaVpHMGlMQ0p6SWpvaWFIUjBjRG92TDJodmMzUXVaRzlqYTJWeUxtbHVkR1Z5Ym1Gc09qZ3dPREF2Wkdsa1kyOXRiU0lzSW5JaU9sdGRMQ0poSWpwYkltUnBaR052YlcwdmRqSWlYWDAiLCJib2R5Ijp7ImdvYWxfY29kZSI6ImlvLmF0YWxhcHJpc20uY29ubmVjdCIsImdvYWwiOiJFc3RhYmxpc2ggYSB0cnVzdCBjb25uZWN0aW9uIGJldHdlZW4gdHdvIHBlZXJzIHVzaW5nIHRoZSBwcm90b2NvbCAnaHR0cHM6Ly9hdGFsYXByaXNtLmlvL21lcmN1cnkvY29ubmVjdGlvbnMvMS4wL3JlcXVlc3QnIiwiYWNjZXB0IjpbXX19', \"\n",
      " 'additional_properties={}), '\n",
      " 'label=<prism_agent_open_api_specification_client.types.Unset object at '\n",
      " '0x000002322E5362E0>, '\n",
      " \"my_did='did:peer:2.Ez6LSjE7dDbFmHpbFh8Qb3VffDGQtP9kHuDMFaA7ibxnv7QCf.Vz6MkhgHSSEYbUAd1QcHrhdCAZukdhC4WrXa3gSqiw5AnmJqr.SeyJ0IjoiZG0iLCJzIjoiaHR0cDovL2hvc3QuZG9ja2VyLmludGVybmFsOjgwOTAvZGlkY29tbSIsInIiOltdLCJhIjpbImRpZGNvbW0vdjIiXX0', \"\n",
      " \"their_did='did:peer:2.Ez6LSguy96Vf9NzzejniycBoWjNdMKaXtw9swzNfNHxyziRz5.Vz6MkrsaYZCVWx4s6iejYViZ9RRGvZFjCogroJM3ewum6WV7d.SeyJ0IjoiZG0iLCJzIjoiaHR0cDovL2hvc3QuZG9ja2VyLmludGVybmFsOjgwODAvZGlkY29tbSIsInIiOltdLCJhIjpbImRpZGNvbW0vdjIiXX0', \"\n",
      " 'updated_at=datetime.datetime(2023, 5, 11, 18, 19, 46, 645552, '\n",
      " 'tzinfo=tzutc()), additional_properties={})]')\n"
     ]
    }
   ],
   "source": [
    "inviter_connections: Response[ConnectionsPage] = get_connections.sync(client=inviter_client)\n",
    "invitee_connections: Response[ConnectionsPage] = get_connections.sync(client=invitee_client)\n",
    "\n",
    "print(\"Inviter connections\")\n",
    "print(\"-------------------\\n\")\n",
    "pprint(f\"{inviter_connections.contents[0:3]}\")\n",
    "print(\"\\nInvitee connections\")\n",
    "print(\"-------------------\\n\")\n",
    "pprint(f\"{invitee_connections.contents[0:3]}\")"
   ]
  },
  {
   "cell_type": "code",
   "execution_count": null,
   "id": "445c750d-f893-48f8-88b6-bd922475a137",
   "metadata": {},
   "outputs": [],
   "source": []
  }
 ],
 "metadata": {
  "kernelspec": {
   "display_name": "Python 3 (ipykernel)",
   "language": "python",
   "name": "python3"
  },
  "language_info": {
   "codemirror_mode": {
    "name": "ipython",
    "version": 3
   },
   "file_extension": ".py",
   "mimetype": "text/x-python",
   "name": "python",
   "nbconvert_exporter": "python",
   "pygments_lexer": "ipython3",
   "version": "3.8.4"
  },
  "vscode": {
   "interpreter": {
    "hash": "916dbcbb3f70747c44a77c7bcd40155683ae19c65e1c03b4aa3499c5328201f1"
   }
  }
 },
 "nbformat": 4,
 "nbformat_minor": 5
}
